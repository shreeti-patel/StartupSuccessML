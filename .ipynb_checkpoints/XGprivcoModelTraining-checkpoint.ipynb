{
 "cells": [
  {
   "cell_type": "code",
   "execution_count": 34,
   "id": "808b2f3c-1646-4773-b6a7-545f60371c11",
   "metadata": {
    "tags": []
   },
   "outputs": [],
   "source": [
    "import pandas as pd\n",
    "import numpy as np\n",
    "import matplotlib.pyplot as plt\n",
    "import seaborn as sns\n",
    "from xgboost import XGBClassifier\n",
    "from sklearn.model_selection import cross_val_score\n",
    "from sklearn.preprocessing import MinMaxScaler\n",
    "import pandas as pd\n"
   ]
  },
  {
   "cell_type": "code",
   "execution_count": 35,
   "id": "3551d827-7d07-42fe-8869-93ac830fb917",
   "metadata": {
    "tags": []
   },
   "outputs": [
    {
     "name": "stdout",
     "output_type": "stream",
     "text": [
      "<class 'pandas.core.frame.DataFrame'>\n",
      "Int64Index: 5997 entries, 0 to 5996\n",
      "Data columns (total 63 columns):\n",
      " #   Column                  Non-Null Count  Dtype  \n",
      "---  ------                  --------------  -----  \n",
      " 0   PrivCo_ID               5997 non-null   int64  \n",
      " 1   profile_type            5997 non-null   object \n",
      " 2   classification          5997 non-null   object \n",
      " 3   status                  5997 non-null   object \n",
      " 4   PE_Backed               5997 non-null   object \n",
      " 5   VC_Backed               5997 non-null   object \n",
      " 6   year_founded            5997 non-null   int64  \n",
      " 7   City                    5948 non-null   object \n",
      " 8   State                   5933 non-null   object \n",
      " 9   Country                 5997 non-null   object \n",
      " 10  Zip                     4796 non-null   object \n",
      " 11  Industry_PICS           5980 non-null   object \n",
      " 12  Keywords                5812 non-null   object \n",
      " 13  sic                     201 non-null    object \n",
      " 14  naics                   564 non-null    object \n",
      " 15  Company_Tags            3631 non-null   object \n",
      " 16  fiscal_month            5997 non-null   int64  \n",
      " 17  fiscal_day              5997 non-null   int64  \n",
      " 18  Total_Round             5997 non-null   float64\n",
      " 19  index_total_funding     5997 non-null   float64\n",
      " 20  Latest_Valuation        5545 non-null   float64\n",
      " 21  Latest_Valuation_Year   5545 non-null   float64\n",
      " 22  1 Year Revenue Growth   3928 non-null   float64\n",
      " 23  3 Year Revenue Growth   5997 non-null   float64\n",
      " 24  1 Year Employee Growth  2117 non-null   float64\n",
      " 25  3 Year Employee Growth  549 non-null    float64\n",
      " 26  2023 Revenue            5997 non-null   float64\n",
      " 27  2022 Revenue            5997 non-null   float64\n",
      " 28  2021 Revenue            5997 non-null   float64\n",
      " 29  2020 Revenue            5997 non-null   float64\n",
      " 30  2019 Revenue            5997 non-null   float64\n",
      " 31  2018 Revenue            291 non-null    float64\n",
      " 32  2017 Revenue            160 non-null    float64\n",
      " 33  2023 Employees          2725 non-null   float64\n",
      " 34  2022 Employees          2314 non-null   float64\n",
      " 35  2021 Employees          2138 non-null   float64\n",
      " 36  2020 Employees          1212 non-null   float64\n",
      " 37  2019 Employees          612 non-null    float64\n",
      " 38  2018 Employees          292 non-null    float64\n",
      " 39  2017 Employees          157 non-null    float64\n",
      " 40  2023 EBITDA             2170 non-null   float64\n",
      " 41  2022 EBITDA             1391 non-null   float64\n",
      " 42  2021 EBITDA             855 non-null    float64\n",
      " 43  2020 EBITDA             506 non-null    float64\n",
      " 44  2019 EBITDA             238 non-null    float64\n",
      " 45  2018 EBITDA             143 non-null    float64\n",
      " 46  2017 EBITDA             131 non-null    float64\n",
      " 47  2023 EV                 2174 non-null   float64\n",
      " 48  2022 EV                 1378 non-null   float64\n",
      " 49  2021 EV                 842 non-null    float64\n",
      " 50  2020 EV                 485 non-null    float64\n",
      " 51  2019 EV                 218 non-null    float64\n",
      " 52  2018 EV                 142 non-null    float64\n",
      " 53  2017 EV                 130 non-null    float64\n",
      " 54  2023 Net Income         2170 non-null   float64\n",
      " 55  2022 Net Income         1393 non-null   float64\n",
      " 56  2021 Net Income         846 non-null    float64\n",
      " 57  2020 Net Income         33 non-null     float64\n",
      " 58  2019 Net Income         31 non-null     float64\n",
      " 59  2018 Net Income         7 non-null      float64\n",
      " 60  2017 Net Income         0 non-null      float64\n",
      " 61  CAGR                    3929 non-null   float64\n",
      " 62  Latest EBITDA           5997 non-null   float64\n",
      "dtypes: float64(45), int64(4), object(14)\n",
      "memory usage: 2.9+ MB\n",
      "None\n",
      "Index(['PrivCo_ID', 'profile_type', 'classification', 'status', 'PE_Backed',\n",
      "       'VC_Backed', 'year_founded', 'City', 'State', 'Country', 'Zip',\n",
      "       'Industry_PICS', 'Keywords', 'sic', 'naics', 'Company_Tags',\n",
      "       'fiscal_month', 'fiscal_day', 'Total_Round', 'index_total_funding',\n",
      "       'Latest_Valuation', 'Latest_Valuation_Year', '1 Year Revenue Growth',\n",
      "       '3 Year Revenue Growth', '1 Year Employee Growth',\n",
      "       '3 Year Employee Growth', '2023 Revenue', '2022 Revenue',\n",
      "       '2021 Revenue', '2020 Revenue', '2019 Revenue', '2018 Revenue',\n",
      "       '2017 Revenue', '2023 Employees', '2022 Employees', '2021 Employees',\n",
      "       '2020 Employees', '2019 Employees', '2018 Employees', '2017 Employees',\n",
      "       '2023 EBITDA', '2022 EBITDA', '2021 EBITDA', '2020 EBITDA',\n",
      "       '2019 EBITDA', '2018 EBITDA', '2017 EBITDA', '2023 EV', '2022 EV',\n",
      "       '2021 EV', '2020 EV', '2019 EV', '2018 EV', '2017 EV',\n",
      "       '2023 Net Income', '2022 Net Income', '2021 Net Income',\n",
      "       '2020 Net Income', '2019 Net Income', '2018 Net Income',\n",
      "       '2017 Net Income', 'CAGR', 'Latest EBITDA'],\n",
      "      dtype='object')\n",
      "(5997, 63)\n"
     ]
    }
   ],
   "source": [
    "df = pd.read_pickle('cleaned_PrivCo_data.pkl')\n",
    "print(df.info())\n",
    "print(df.columns)\n",
    "print(df.shape)"
   ]
  },
  {
   "cell_type": "markdown",
   "id": "91271330-1004-46d8-a856-f04a3a485201",
   "metadata": {},
   "source": [
    "## One Hot Encode the low cardinality categorical data "
   ]
  },
  {
   "cell_type": "code",
   "execution_count": 36,
   "id": "ba9b30cb-9053-4b2d-a7cf-d2ee1397f7cd",
   "metadata": {},
   "outputs": [
    {
     "name": "stdout",
     "output_type": "stream",
     "text": [
      "<class 'pandas.core.frame.DataFrame'>\n",
      "Int64Index: 5997 entries, 0 to 5996\n",
      "Data columns (total 63 columns):\n",
      " #   Column                  Non-Null Count  Dtype  \n",
      "---  ------                  --------------  -----  \n",
      " 0   PrivCo_ID               5997 non-null   int64  \n",
      " 1   profile_type            5997 non-null   object \n",
      " 2   classification          5997 non-null   object \n",
      " 3   status                  5997 non-null   object \n",
      " 4   year_founded            5997 non-null   int64  \n",
      " 5   City                    5948 non-null   object \n",
      " 6   State                   5933 non-null   object \n",
      " 7   Country                 5997 non-null   object \n",
      " 8   Zip                     4796 non-null   object \n",
      " 9   Industry_PICS           5980 non-null   object \n",
      " 10  Keywords                5812 non-null   object \n",
      " 11  sic                     201 non-null    object \n",
      " 12  naics                   564 non-null    object \n",
      " 13  Company_Tags            3631 non-null   object \n",
      " 14  fiscal_month            5997 non-null   int64  \n",
      " 15  fiscal_day              5997 non-null   int64  \n",
      " 16  Total_Round             5997 non-null   float64\n",
      " 17  index_total_funding     5997 non-null   float64\n",
      " 18  Latest_Valuation        5545 non-null   float64\n",
      " 19  Latest_Valuation_Year   5545 non-null   float64\n",
      " 20  1 Year Revenue Growth   3928 non-null   float64\n",
      " 21  3 Year Revenue Growth   5997 non-null   float64\n",
      " 22  1 Year Employee Growth  2117 non-null   float64\n",
      " 23  3 Year Employee Growth  549 non-null    float64\n",
      " 24  2023 Revenue            5997 non-null   float64\n",
      " 25  2022 Revenue            5997 non-null   float64\n",
      " 26  2021 Revenue            5997 non-null   float64\n",
      " 27  2020 Revenue            5997 non-null   float64\n",
      " 28  2019 Revenue            5997 non-null   float64\n",
      " 29  2018 Revenue            291 non-null    float64\n",
      " 30  2017 Revenue            160 non-null    float64\n",
      " 31  2023 Employees          2725 non-null   float64\n",
      " 32  2022 Employees          2314 non-null   float64\n",
      " 33  2021 Employees          2138 non-null   float64\n",
      " 34  2020 Employees          1212 non-null   float64\n",
      " 35  2019 Employees          612 non-null    float64\n",
      " 36  2018 Employees          292 non-null    float64\n",
      " 37  2017 Employees          157 non-null    float64\n",
      " 38  2023 EBITDA             2170 non-null   float64\n",
      " 39  2022 EBITDA             1391 non-null   float64\n",
      " 40  2021 EBITDA             855 non-null    float64\n",
      " 41  2020 EBITDA             506 non-null    float64\n",
      " 42  2019 EBITDA             238 non-null    float64\n",
      " 43  2018 EBITDA             143 non-null    float64\n",
      " 44  2017 EBITDA             131 non-null    float64\n",
      " 45  2023 EV                 2174 non-null   float64\n",
      " 46  2022 EV                 1378 non-null   float64\n",
      " 47  2021 EV                 842 non-null    float64\n",
      " 48  2020 EV                 485 non-null    float64\n",
      " 49  2019 EV                 218 non-null    float64\n",
      " 50  2018 EV                 142 non-null    float64\n",
      " 51  2017 EV                 130 non-null    float64\n",
      " 52  2023 Net Income         2170 non-null   float64\n",
      " 53  2022 Net Income         1393 non-null   float64\n",
      " 54  2021 Net Income         846 non-null    float64\n",
      " 55  2020 Net Income         33 non-null     float64\n",
      " 56  2019 Net Income         31 non-null     float64\n",
      " 57  2018 Net Income         7 non-null      float64\n",
      " 58  2017 Net Income         0 non-null      float64\n",
      " 59  CAGR                    3929 non-null   float64\n",
      " 60  Latest EBITDA           5997 non-null   float64\n",
      " 61  PE_Backed_Yes           5997 non-null   int64  \n",
      " 62  VC_Backed_Yes           5997 non-null   int64  \n",
      "dtypes: float64(45), int64(6), object(12)\n",
      "memory usage: 2.9+ MB\n"
     ]
    }
   ],
   "source": [
    "columns_to_encode = ['PE_Backed','VC_Backed']\n",
    "df = pd.get_dummies(df, columns=columns_to_encode)\n",
    "df = df.drop(['PE_Backed_No', 'VC_Backed_No'], axis=1)\n",
    "df['PE_Backed_Yes'] = df['PE_Backed_Yes'].astype('int')\n",
    "df['VC_Backed_Yes'] = df['VC_Backed_Yes'].astype('int')\n",
    "df.info()"
   ]
  },
  {
   "cell_type": "markdown",
   "id": "5469f224-4cbc-4d6b-acc2-37194330bc8d",
   "metadata": {},
   "source": [
    "# Drop any rows that have NaN for Latest Valuation"
   ]
  },
  {
   "cell_type": "code",
   "execution_count": 37,
   "id": "3f8fe3f2-d645-46c1-9aef-6ab43f0327f5",
   "metadata": {
    "tags": []
   },
   "outputs": [
    {
     "name": "stdout",
     "output_type": "stream",
     "text": [
      "<class 'pandas.core.frame.DataFrame'>\n",
      "Int64Index: 3698 entries, 1 to 5995\n",
      "Data columns (total 63 columns):\n",
      " #   Column                  Non-Null Count  Dtype  \n",
      "---  ------                  --------------  -----  \n",
      " 0   PrivCo_ID               3698 non-null   int64  \n",
      " 1   profile_type            3698 non-null   object \n",
      " 2   classification          3698 non-null   object \n",
      " 3   status                  3698 non-null   object \n",
      " 4   year_founded            3698 non-null   int64  \n",
      " 5   City                    3685 non-null   object \n",
      " 6   State                   3689 non-null   object \n",
      " 7   Country                 3698 non-null   object \n",
      " 8   Zip                     3538 non-null   object \n",
      " 9   Industry_PICS           3697 non-null   object \n",
      " 10  Keywords                3657 non-null   object \n",
      " 11  sic                     184 non-null    object \n",
      " 12  naics                   458 non-null    object \n",
      " 13  Company_Tags            2624 non-null   object \n",
      " 14  fiscal_month            3698 non-null   int64  \n",
      " 15  fiscal_day              3698 non-null   int64  \n",
      " 16  Total_Round             3698 non-null   float64\n",
      " 17  index_total_funding     3698 non-null   float64\n",
      " 18  Latest_Valuation        3698 non-null   float64\n",
      " 19  Latest_Valuation_Year   3698 non-null   float64\n",
      " 20  1 Year Revenue Growth   3698 non-null   float64\n",
      " 21  3 Year Revenue Growth   3698 non-null   float64\n",
      " 22  1 Year Employee Growth  1964 non-null   float64\n",
      " 23  3 Year Employee Growth  523 non-null    float64\n",
      " 24  2023 Revenue            3698 non-null   float64\n",
      " 25  2022 Revenue            3698 non-null   float64\n",
      " 26  2021 Revenue            3698 non-null   float64\n",
      " 27  2020 Revenue            3698 non-null   float64\n",
      " 28  2019 Revenue            3698 non-null   float64\n",
      " 29  2018 Revenue            276 non-null    float64\n",
      " 30  2017 Revenue            159 non-null    float64\n",
      " 31  2023 Employees          756 non-null    float64\n",
      " 32  2022 Employees          2090 non-null   float64\n",
      " 33  2021 Employees          1983 non-null   float64\n",
      " 34  2020 Employees          1074 non-null   float64\n",
      " 35  2019 Employees          581 non-null    float64\n",
      " 36  2018 Employees          277 non-null    float64\n",
      " 37  2017 Employees          155 non-null    float64\n",
      " 38  2023 EBITDA             942 non-null    float64\n",
      " 39  2022 EBITDA             1267 non-null   float64\n",
      " 40  2021 EBITDA             789 non-null    float64\n",
      " 41  2020 EBITDA             431 non-null    float64\n",
      " 42  2019 EBITDA             219 non-null    float64\n",
      " 43  2018 EBITDA             140 non-null    float64\n",
      " 44  2017 EBITDA             130 non-null    float64\n",
      " 45  2023 EV                 943 non-null    float64\n",
      " 46  2022 EV                 1278 non-null   float64\n",
      " 47  2021 EV                 793 non-null    float64\n",
      " 48  2020 EV                 424 non-null    float64\n",
      " 49  2019 EV                 211 non-null    float64\n",
      " 50  2018 EV                 140 non-null    float64\n",
      " 51  2017 EV                 130 non-null    float64\n",
      " 52  2023 Net Income         942 non-null    float64\n",
      " 53  2022 Net Income         1267 non-null   float64\n",
      " 54  2021 Net Income         781 non-null    float64\n",
      " 55  2020 Net Income         16 non-null     float64\n",
      " 56  2019 Net Income         15 non-null     float64\n",
      " 57  2018 Net Income         6 non-null      float64\n",
      " 58  2017 Net Income         0 non-null      float64\n",
      " 59  CAGR                    3698 non-null   float64\n",
      " 60  Latest EBITDA           3698 non-null   float64\n",
      " 61  PE_Backed_Yes           3698 non-null   int64  \n",
      " 62  VC_Backed_Yes           3698 non-null   int64  \n",
      "dtypes: float64(45), int64(6), object(12)\n",
      "memory usage: 1.8+ MB\n"
     ]
    }
   ],
   "source": [
    "df = df.dropna(subset=['Latest_Valuation'],  how ='any')\n",
    "\n",
    "df = df.dropna(subset=['3 Year Revenue Growth', 'Latest EBITDA', 'CAGR'],  how ='any')\n",
    "\n",
    "\n",
    "# using first 'Total_Round' ,'1 Year Revenue Growth', '2023 Revenue', 'CAGR', 'PE_Backed_Yes', 'VC_Backed_Yes, \n",
    "df.info()"
   ]
  },
  {
   "cell_type": "code",
   "execution_count": 38,
   "id": "b69388db-c6e5-46d5-b769-d8e530a0f12c",
   "metadata": {
    "tags": []
   },
   "outputs": [
    {
     "data": {
      "text/plain": [
       "Index(['PrivCo_ID', 'profile_type', 'classification', 'status', 'year_founded',\n",
       "       'City', 'State', 'Country', 'Zip', 'Industry_PICS', 'Keywords', 'sic',\n",
       "       'naics', 'Company_Tags', 'fiscal_month', 'fiscal_day', 'Total_Round',\n",
       "       'index_total_funding', 'Latest_Valuation', 'Latest_Valuation_Year',\n",
       "       '1 Year Revenue Growth', '3 Year Revenue Growth',\n",
       "       '1 Year Employee Growth', '3 Year Employee Growth', '2023 Revenue',\n",
       "       '2022 Revenue', '2021 Revenue', '2020 Revenue', '2019 Revenue',\n",
       "       '2018 Revenue', '2017 Revenue', '2023 Employees', '2022 Employees',\n",
       "       '2021 Employees', '2020 Employees', '2019 Employees', '2018 Employees',\n",
       "       '2017 Employees', '2023 EBITDA', '2022 EBITDA', '2021 EBITDA',\n",
       "       '2020 EBITDA', '2019 EBITDA', '2018 EBITDA', '2017 EBITDA', '2023 EV',\n",
       "       '2022 EV', '2021 EV', '2020 EV', '2019 EV', '2018 EV', '2017 EV',\n",
       "       '2023 Net Income', '2022 Net Income', '2021 Net Income',\n",
       "       '2020 Net Income', '2019 Net Income', '2018 Net Income',\n",
       "       '2017 Net Income', 'CAGR', 'Latest EBITDA', 'PE_Backed_Yes',\n",
       "       'VC_Backed_Yes'],\n",
       "      dtype='object')"
      ]
     },
     "execution_count": 38,
     "metadata": {},
     "output_type": "execute_result"
    }
   ],
   "source": [
    "df.columns"
   ]
  },
  {
   "cell_type": "code",
   "execution_count": 39,
   "id": "f6f21585-f9b6-4435-8ee6-b884b8297b4c",
   "metadata": {
    "tags": []
   },
   "outputs": [
    {
     "name": "stdout",
     "output_type": "stream",
     "text": [
      "<class 'pandas.core.frame.DataFrame'>\n",
      "Int64Index: 3698 entries, 1 to 5995\n",
      "Data columns (total 3 columns):\n",
      " #   Column                 Non-Null Count  Dtype  \n",
      "---  ------                 --------------  -----  \n",
      " 0   3 Year Revenue Growth  3698 non-null   float64\n",
      " 1   CAGR                   3698 non-null   float64\n",
      " 2   Latest EBITDA          3698 non-null   float64\n",
      "dtypes: float64(3)\n",
      "memory usage: 115.6 KB\n",
      "None\n",
      "<class 'pandas.core.series.Series'>\n",
      "Int64Index: 3698 entries, 1 to 5995\n",
      "Series name: Latest_Valuation\n",
      "Non-Null Count  Dtype  \n",
      "--------------  -----  \n",
      "3698 non-null   float64\n",
      "dtypes: float64(1)\n",
      "memory usage: 57.8 KB\n",
      "None\n"
     ]
    }
   ],
   "source": [
    "from sklearn.model_selection import train_test_split\n",
    "from sklearn.ensemble import RandomForestRegressor\n",
    "from sklearn.metrics import mean_squared_error\n",
    "import numpy as np\n",
    "\n",
    "# Assuming `df` is your DataFrame and preprocessing is done\n",
    "# '3 Year Revenue Growth', '2023 Revenue','2022 Revenue','2021 Revenue', '2020 Revenue', '2019 Revenue', 'Latest EBITDA']\n",
    "\n",
    "y = df['Latest_Valuation']\n",
    "X = df.drop(['PrivCo_ID', 'profile_type', 'classification', 'status', 'year_founded',\n",
    "       'City', 'State', 'Country', 'Zip', 'Industry_PICS', 'Keywords', 'sic',\n",
    "       'naics', 'Company_Tags', 'fiscal_month', 'fiscal_day', 'Total_Round',\n",
    "       'Latest_Valuation', 'Latest_Valuation_Year',\n",
    "       '1 Year Revenue Growth', \n",
    "       '1 Year Employee Growth', '3 Year Employee Growth', \n",
    "       '2018 Revenue', '2017 Revenue', '2023 Employees', '2022 Employees',\n",
    "       '2021 Employees', '2020 Employees', '2019 Employees', '2018 Employees',\n",
    "       '2017 Employees', '2023 EBITDA', '2022 EBITDA', '2021 EBITDA',\n",
    "       '2020 EBITDA', '2019 EBITDA', '2018 EBITDA', '2017 EBITDA', '2023 EV',\n",
    "       '2022 EV', '2021 EV', '2020 EV', '2019 EV', '2018 EV', '2017 EV',\n",
    "       '2023 Net Income', '2022 Net Income', '2021 Net Income',\n",
    "       '2020 Net Income', '2019 Net Income', '2018 Net Income',\n",
    "       '2017 Net Income', 'PE_Backed_Yes', 'VC_Backed_Yes' ,\n",
    "             'index_total_funding' , '2023 Revenue','2022 Revenue','2021 Revenue', '2020 Revenue', '2019 Revenue'\n",
    "             \n",
    "    ], axis = 1)\n",
    "\n",
    "\n",
    "print(X.info())\n",
    "print(y.info())"
   ]
  },
  {
   "cell_type": "code",
   "execution_count": 40,
   "id": "573abb24-31a9-4bfd-8f4f-7c22097d1eb1",
   "metadata": {
    "tags": []
   },
   "outputs": [
    {
     "data": {
      "text/plain": [
       "Index(['3 Year Revenue Growth', 'CAGR', 'Latest EBITDA'], dtype='object')"
      ]
     },
     "execution_count": 40,
     "metadata": {},
     "output_type": "execute_result"
    }
   ],
   "source": [
    "X.columns"
   ]
  },
  {
   "cell_type": "code",
   "execution_count": 41,
   "id": "7d2ca7ff-13d6-4dcb-b7ed-c76a6c1a78d5",
   "metadata": {
    "tags": []
   },
   "outputs": [
    {
     "data": {
      "text/plain": [
       "195487994.51568416"
      ]
     },
     "execution_count": 41,
     "metadata": {},
     "output_type": "execute_result"
    }
   ],
   "source": [
    "y_avg = y.mean()\n",
    "y_avg"
   ]
  },
  {
   "cell_type": "markdown",
   "id": "d53f47c5-30fd-4d82-9645-72a0022b3bab",
   "metadata": {},
   "source": [
    "## Normalize X Features"
   ]
  },
  {
   "cell_type": "code",
   "execution_count": 42,
   "id": "d6146a5c-3e55-4fa4-811e-0774058ef66d",
   "metadata": {
    "tags": []
   },
   "outputs": [
    {
     "data": {
      "text/html": [
       "<div>\n",
       "<style scoped>\n",
       "    .dataframe tbody tr th:only-of-type {\n",
       "        vertical-align: middle;\n",
       "    }\n",
       "\n",
       "    .dataframe tbody tr th {\n",
       "        vertical-align: top;\n",
       "    }\n",
       "\n",
       "    .dataframe thead th {\n",
       "        text-align: right;\n",
       "    }\n",
       "</style>\n",
       "<table border=\"1\" class=\"dataframe\">\n",
       "  <thead>\n",
       "    <tr style=\"text-align: right;\">\n",
       "      <th></th>\n",
       "      <th>3 Year Revenue Growth</th>\n",
       "      <th>CAGR</th>\n",
       "      <th>Latest EBITDA</th>\n",
       "    </tr>\n",
       "  </thead>\n",
       "  <tbody>\n",
       "    <tr>\n",
       "      <th>1</th>\n",
       "      <td>0.145704</td>\n",
       "      <td>0.002204</td>\n",
       "      <td>8.164154e-02</td>\n",
       "    </tr>\n",
       "    <tr>\n",
       "      <th>2</th>\n",
       "      <td>0.145704</td>\n",
       "      <td>0.002159</td>\n",
       "      <td>8.052337e-02</td>\n",
       "    </tr>\n",
       "    <tr>\n",
       "      <th>3</th>\n",
       "      <td>0.119162</td>\n",
       "      <td>0.002148</td>\n",
       "      <td>8.164154e-02</td>\n",
       "    </tr>\n",
       "    <tr>\n",
       "      <th>4</th>\n",
       "      <td>0.120942</td>\n",
       "      <td>0.002197</td>\n",
       "      <td>8.099624e-02</td>\n",
       "    </tr>\n",
       "    <tr>\n",
       "      <th>5</th>\n",
       "      <td>0.372665</td>\n",
       "      <td>0.003325</td>\n",
       "      <td>9.130521e-02</td>\n",
       "    </tr>\n",
       "    <tr>\n",
       "      <th>...</th>\n",
       "      <td>...</td>\n",
       "      <td>...</td>\n",
       "      <td>...</td>\n",
       "    </tr>\n",
       "    <tr>\n",
       "      <th>5981</th>\n",
       "      <td>32.986257</td>\n",
       "      <td>1.163918</td>\n",
       "      <td>2.400000e+06</td>\n",
       "    </tr>\n",
       "    <tr>\n",
       "      <th>5987</th>\n",
       "      <td>32.986257</td>\n",
       "      <td>0.345185</td>\n",
       "      <td>4.400000e+05</td>\n",
       "    </tr>\n",
       "    <tr>\n",
       "      <th>5988</th>\n",
       "      <td>32.986257</td>\n",
       "      <td>0.136986</td>\n",
       "      <td>6.208113e+06</td>\n",
       "    </tr>\n",
       "    <tr>\n",
       "      <th>5992</th>\n",
       "      <td>32.986257</td>\n",
       "      <td>0.111111</td>\n",
       "      <td>5.178790e+05</td>\n",
       "    </tr>\n",
       "    <tr>\n",
       "      <th>5995</th>\n",
       "      <td>32.986257</td>\n",
       "      <td>0.023810</td>\n",
       "      <td>2.900000e+05</td>\n",
       "    </tr>\n",
       "  </tbody>\n",
       "</table>\n",
       "<p>3698 rows × 3 columns</p>\n",
       "</div>"
      ],
      "text/plain": [
       "      3 Year Revenue Growth      CAGR  Latest EBITDA\n",
       "1                  0.145704  0.002204   8.164154e-02\n",
       "2                  0.145704  0.002159   8.052337e-02\n",
       "3                  0.119162  0.002148   8.164154e-02\n",
       "4                  0.120942  0.002197   8.099624e-02\n",
       "5                  0.372665  0.003325   9.130521e-02\n",
       "...                     ...       ...            ...\n",
       "5981              32.986257  1.163918   2.400000e+06\n",
       "5987              32.986257  0.345185   4.400000e+05\n",
       "5988              32.986257  0.136986   6.208113e+06\n",
       "5992              32.986257  0.111111   5.178790e+05\n",
       "5995              32.986257  0.023810   2.900000e+05\n",
       "\n",
       "[3698 rows x 3 columns]"
      ]
     },
     "execution_count": 42,
     "metadata": {},
     "output_type": "execute_result"
    }
   ],
   "source": [
    "\n",
    "#Initialize the MinMaxScaler\n",
    "scaler = MinMaxScaler()\n",
    "\n",
    "# Fit the scaler to your data and transform it in one step\n",
    "X_normalized = scaler.fit_transform(X)\n",
    "\n",
    "# Convert the result back to a DataFrame (optional, for better readability)\n",
    "X_normalized_df = pd.DataFrame(X_normalized, columns=X.columns)\n",
    "\n",
    "# If you want to update the original DataFrame\n",
    "X.update(X_normalized_df)\n",
    "X"
   ]
  },
  {
   "cell_type": "code",
   "execution_count": 43,
   "id": "f9a546e9-8389-442d-9ae0-b80e2778e57a",
   "metadata": {
    "tags": []
   },
   "outputs": [
    {
     "name": "stdout",
     "output_type": "stream",
     "text": [
      "RMSE: 1193742534.8417547\n"
     ]
    }
   ],
   "source": [
    "\n",
    "# Splitting the dataset into the Training set and Test set\n",
    "X_train, X_test, y_train, y_test = train_test_split(X, y, test_size = 0.2, random_state = 42)\n",
    "\n",
    "# Fitting Random Forest Regression to the dataset\n",
    "regressor = RandomForestRegressor(n_estimators = 100, random_state = 42)\n",
    "regressor.fit(X_train, y_train)\n",
    "\n",
    "# Predicting the Test set results\n",
    "y_pred = regressor.predict(X_test)\n",
    "\n",
    "# Evaluating the Model\n",
    "rmse = np.sqrt(mean_squared_error(y_test, y_pred))\n",
    "print(f'RMSE: {rmse}')\n"
   ]
  },
  {
   "cell_type": "code",
   "execution_count": 44,
   "id": "431dda09-abb4-4de0-a71d-aafaeef60cdf",
   "metadata": {
    "tags": []
   },
   "outputs": [],
   "source": [
    "#Imputed via median normalized RMSE: 546 803 455.392959\n",
    "# '3 Year Revenue Growth', '2023 Revenue','2022 Revenue','2021 Revenue', '2020 Revenue', '2019 Revenue', 'Latest EBITDA']\n",
    "\n",
    "# Not Imputed Normlaized RMSE: 314 484 253.9966732\n",
    "# '3 Year Revenue Growth', '2023 Revenue', '2022 Revenue', '2021 Revenue','2020 Revenue', '2019 Revenue', 'Latest EBITDA'\n",
    "# v = 4.15066129714071\n",
    "\n",
    "# Not Imputed Normalized RMSE: 315912996.5953331\n",
    "# '3 Year Revenue Growth' 'Latest EBITDA'\n",
    "# 4.16951828769737\n",
    "\n",
    "# Not Imputed Normalized RMSE: 314013613.4744265\n",
    "# '3 Year Revenue Growth' 'Latest EBITDA''CAGR'\n",
    "# 4.144449636697525\n",
    "\n",
    "# Imputed via mean Normalized RMSE: 1193742534.8417547\n",
    "# '3 Year Revenue Growth' 'Latest EBITDA''CAGR'\n",
    "#6.106474915757447\n"
   ]
  },
  {
   "cell_type": "code",
   "execution_count": 45,
   "id": "2eb9cb1b-9706-47c5-99f2-2beeaf8a3ad0",
   "metadata": {
    "tags": []
   },
   "outputs": [
    {
     "data": {
      "text/plain": [
       "6.106474915757447"
      ]
     },
     "execution_count": 45,
     "metadata": {},
     "output_type": "execute_result"
    }
   ],
   "source": [
    "v = rmse/y_avg\n",
    "v"
   ]
  },
  {
   "cell_type": "code",
   "execution_count": 13,
   "id": "64cf8ed8-2740-4ee6-ba0b-05bb953e10c1",
   "metadata": {
    "tags": []
   },
   "outputs": [
    {
     "data": {
      "image/png": "[encoded data removed]",
      "text/plain": [
       "<Figure size 640x480 with 1 Axes>"
      ]
     },
     "metadata": {},
     "output_type": "display_data"
    }
   ],
   "source": [
    "plt.scatter(y_test, y_pred)\n",
    "plt.xlabel('Actual Values')\n",
    "plt.ylabel('Predicted Values')\n",
    "plt.title('Actual vs. Predicted Values')\n",
    "plt.plot([y_test.min(), y_test.max()], [y_test.min(), y_test.max()], 'k--', lw=4)  # Diagonal line\n",
    "plt.show()"
   ]
  },
  {
   "cell_type": "code",
   "execution_count": 14,
   "id": "3077bea0-d231-47ec-949b-c3e99f10ee63",
   "metadata": {},
   "outputs": [],
   "source": [
    "# add  PE_Backed\tVC_Backed as one hot encoded\n",
    "# try building model with only 1/3 yeaar revunue /employyee growth and pe/vc mbacked\n",
    "# maybe do  corrltion matrix for jist y (latest valuation)"
   ]
  },
  {
   "cell_type": "markdown",
   "id": "c054bba7-c7b3-462c-8e4a-f764f88772d7",
   "metadata": {},
   "source": [
    "X is 'Total_Round', '1 Year Revenue Growth', '2023 Revenue', 'CAGR',\n",
    "       'PE_Backed_Yes', 'VC_Backed_Yes'\n",
    "       \n",
    "RMSE: 1 125 196 242.9192564\n",
    "\n",
    "\n",
    "X is '1 Year Revenue Growth' RMSE: 632300291.9484972\n",
    "\n",
    "X is 'Total_Round', '1 Year Revenue Growth', '2023 Revenue', 'CAGR' RMSE: 1 032 997 555.5637115\n",
    "                                                                    RMSE: 3 186 356 043.097803"
   ]
  },
  {
   "cell_type": "markdown",
   "id": "2185f2e7-5cee-4f66-9451-2adea43e22f6",
   "metadata": {},
   "source": [
    "# NEXT:  \n",
    "Issue: Not enough data that has non-null values for all features\n",
    "\n",
    "Solution: Impute Data\n",
    "\n",
    "Then: Try retraining model on the first 6 and any other\n",
    "\n",
    "Then issue is model's parameters or type of model \n",
    "\n",
    "Parameters Issue:\n",
    "Solution: Hyper Tuning modeling using Random Search Cross Validation in Scikit-Learn and Grid Serach\n",
    "\n",
    "Type of Model Issue:\n",
    "Try using Neural Networks istead\n",
    "\n",
    "\n",
    "4/8: Impute data \n",
    "\n",
    "\n",
    "\n"
   ]
  },
  {
   "cell_type": "code",
   "execution_count": 15,
   "id": "5287c897-2d7a-4730-90ff-6f38f57fd70b",
   "metadata": {
    "tags": []
   },
   "outputs": [
    {
     "data": {
      "text/plain": [
       "{'bootstrap': True,\n",
       " 'ccp_alpha': 0.0,\n",
       " 'criterion': 'squared_error',\n",
       " 'max_depth': None,\n",
       " 'max_features': 1.0,\n",
       " 'max_leaf_nodes': None,\n",
       " 'max_samples': None,\n",
       " 'min_impurity_decrease': 0.0,\n",
       " 'min_samples_leaf': 1,\n",
       " 'min_samples_split': 2,\n",
       " 'min_weight_fraction_leaf': 0.0,\n",
       " 'n_estimators': 100,\n",
       " 'n_jobs': None,\n",
       " 'oob_score': False,\n",
       " 'random_state': 42,\n",
       " 'verbose': 0,\n",
       " 'warm_start': False}"
      ]
     },
     "execution_count": 15,
     "metadata": {},
     "output_type": "execute_result"
    }
   ],
   "source": [
    "regressor.get_params()"
   ]
  },
  {
   "cell_type": "code",
   "execution_count": null,
   "id": "0f88ee79-62a3-49e6-990a-7fe98b00a08c",
   "metadata": {},
   "outputs": [],
   "source": []
  },
  {
   "cell_type": "code",
   "execution_count": 16,
   "id": "cd1f37c5-35f5-4102-938d-ab69529adbce",
   "metadata": {
    "tags": []
   },
   "outputs": [],
   "source": [
    "#"
   ]
  }
 ],
 "metadata": {
  "kernelspec": {
   "display_name": "Python 3 (ipykernel)",
   "language": "python",
   "name": "python3"
  },
  "language_info": {
   "codemirror_mode": {
    "name": "ipython",
    "version": 3
   },
   "file_extension": ".py",
   "mimetype": "text/x-python",
   "name": "python",
   "nbconvert_exporter": "python",
   "pygments_lexer": "ipython3",
   "version": "3.11.4"
  }
 },
 "nbformat": 4,
 "nbformat_minor": 5
}
