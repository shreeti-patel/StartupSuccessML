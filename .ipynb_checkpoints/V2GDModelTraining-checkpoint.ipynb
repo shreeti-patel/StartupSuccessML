{
 "cells": [
  {
   "cell_type": "code",
   "execution_count": 44,
   "id": "808b2f3c-1646-4773-b6a7-545f60371c11",
   "metadata": {
    "tags": []
   },
   "outputs": [],
   "source": [
    "import pandas as pd\n",
    "import numpy as np\n",
    "import matplotlib.pyplot as plt\n",
    "import seaborn as sns\n",
    "from xgboost import XGBClassifier\n",
    "from sklearn.model_selection import cross_val_score\n",
    "from sklearn.preprocessing import MinMaxScaler\n",
    "import pandas as pd\n",
    "import xgboost as xgb\n",
    "from sklearn.model_selection import train_test_split\n",
    "from sklearn.metrics import mean_squared_error\n",
    "import numpy as np"
   ]
  },
  {
   "cell_type": "code",
   "execution_count": 45,
   "id": "3551d827-7d07-42fe-8869-93ac830fb917",
   "metadata": {
    "tags": []
   },
   "outputs": [
    {
     "name": "stdout",
     "output_type": "stream",
     "text": [
      "<class 'pandas.core.frame.DataFrame'>\n",
      "Int64Index: 5997 entries, 0 to 5996\n",
      "Data columns (total 63 columns):\n",
      " #   Column                  Non-Null Count  Dtype  \n",
      "---  ------                  --------------  -----  \n",
      " 0   PrivCo_ID               5997 non-null   int64  \n",
      " 1   profile_type            5997 non-null   object \n",
      " 2   classification          5997 non-null   object \n",
      " 3   status                  5997 non-null   object \n",
      " 4   PE_Backed               5997 non-null   object \n",
      " 5   VC_Backed               5997 non-null   object \n",
      " 6   year_founded            5997 non-null   int64  \n",
      " 7   City                    5948 non-null   object \n",
      " 8   State                   5933 non-null   object \n",
      " 9   Country                 5997 non-null   object \n",
      " 10  Zip                     4796 non-null   object \n",
      " 11  Industry_PICS           5980 non-null   object \n",
      " 12  Keywords                5812 non-null   object \n",
      " 13  sic                     201 non-null    object \n",
      " 14  naics                   564 non-null    object \n",
      " 15  Company_Tags            3631 non-null   object \n",
      " 16  fiscal_month            5997 non-null   int64  \n",
      " 17  fiscal_day              5997 non-null   int64  \n",
      " 18  Total_Round             5997 non-null   float64\n",
      " 19  index_total_funding     5997 non-null   float64\n",
      " 20  Latest_Valuation        5545 non-null   float64\n",
      " 21  Latest_Valuation_Year   5545 non-null   float64\n",
      " 22  1 Year Revenue Growth   3928 non-null   float64\n",
      " 23  3 Year Revenue Growth   5997 non-null   float64\n",
      " 24  1 Year Employee Growth  2117 non-null   float64\n",
      " 25  3 Year Employee Growth  549 non-null    float64\n",
      " 26  2023 Revenue            5997 non-null   float64\n",
      " 27  2022 Revenue            5997 non-null   float64\n",
      " 28  2021 Revenue            5997 non-null   float64\n",
      " 29  2020 Revenue            5997 non-null   float64\n",
      " 30  2019 Revenue            5997 non-null   float64\n",
      " 31  2018 Revenue            291 non-null    float64\n",
      " 32  2017 Revenue            160 non-null    float64\n",
      " 33  2023 Employees          2725 non-null   float64\n",
      " 34  2022 Employees          2314 non-null   float64\n",
      " 35  2021 Employees          2138 non-null   float64\n",
      " 36  2020 Employees          1212 non-null   float64\n",
      " 37  2019 Employees          612 non-null    float64\n",
      " 38  2018 Employees          292 non-null    float64\n",
      " 39  2017 Employees          157 non-null    float64\n",
      " 40  2023 EBITDA             2170 non-null   float64\n",
      " 41  2022 EBITDA             1391 non-null   float64\n",
      " 42  2021 EBITDA             855 non-null    float64\n",
      " 43  2020 EBITDA             506 non-null    float64\n",
      " 44  2019 EBITDA             238 non-null    float64\n",
      " 45  2018 EBITDA             143 non-null    float64\n",
      " 46  2017 EBITDA             131 non-null    float64\n",
      " 47  2023 EV                 2174 non-null   float64\n",
      " 48  2022 EV                 1378 non-null   float64\n",
      " 49  2021 EV                 842 non-null    float64\n",
      " 50  2020 EV                 485 non-null    float64\n",
      " 51  2019 EV                 218 non-null    float64\n",
      " 52  2018 EV                 142 non-null    float64\n",
      " 53  2017 EV                 130 non-null    float64\n",
      " 54  2023 Net Income         2170 non-null   float64\n",
      " 55  2022 Net Income         1393 non-null   float64\n",
      " 56  2021 Net Income         846 non-null    float64\n",
      " 57  2020 Net Income         33 non-null     float64\n",
      " 58  2019 Net Income         31 non-null     float64\n",
      " 59  2018 Net Income         7 non-null      float64\n",
      " 60  2017 Net Income         0 non-null      float64\n",
      " 61  CAGR                    3929 non-null   float64\n",
      " 62  Latest EBITDA           5997 non-null   float64\n",
      "dtypes: float64(45), int64(4), object(14)\n",
      "memory usage: 2.9+ MB\n",
      "None\n",
      "Index(['PrivCo_ID', 'profile_type', 'classification', 'status', 'PE_Backed',\n",
      "       'VC_Backed', 'year_founded', 'City', 'State', 'Country', 'Zip',\n",
      "       'Industry_PICS', 'Keywords', 'sic', 'naics', 'Company_Tags',\n",
      "       'fiscal_month', 'fiscal_day', 'Total_Round', 'index_total_funding',\n",
      "       'Latest_Valuation', 'Latest_Valuation_Year', '1 Year Revenue Growth',\n",
      "       '3 Year Revenue Growth', '1 Year Employee Growth',\n",
      "       '3 Year Employee Growth', '2023 Revenue', '2022 Revenue',\n",
      "       '2021 Revenue', '2020 Revenue', '2019 Revenue', '2018 Revenue',\n",
      "       '2017 Revenue', '2023 Employees', '2022 Employees', '2021 Employees',\n",
      "       '2020 Employees', '2019 Employees', '2018 Employees', '2017 Employees',\n",
      "       '2023 EBITDA', '2022 EBITDA', '2021 EBITDA', '2020 EBITDA',\n",
      "       '2019 EBITDA', '2018 EBITDA', '2017 EBITDA', '2023 EV', '2022 EV',\n",
      "       '2021 EV', '2020 EV', '2019 EV', '2018 EV', '2017 EV',\n",
      "       '2023 Net Income', '2022 Net Income', '2021 Net Income',\n",
      "       '2020 Net Income', '2019 Net Income', '2018 Net Income',\n",
      "       '2017 Net Income', 'CAGR', 'Latest EBITDA'],\n",
      "      dtype='object')\n",
      "(5997, 63)\n"
     ]
    }
   ],
   "source": [
    "df = pd.read_pickle('cleaned_PrivCo_data.pkl')\n",
    "print(df.info())\n",
    "print(df.columns)\n",
    "print(df.shape)"
   ]
  },
  {
   "cell_type": "markdown",
   "id": "91271330-1004-46d8-a856-f04a3a485201",
   "metadata": {},
   "source": [
    "## One Hot Encode the low cardinality categorical data "
   ]
  },
  {
   "cell_type": "code",
   "execution_count": 46,
   "id": "ba9b30cb-9053-4b2d-a7cf-d2ee1397f7cd",
   "metadata": {},
   "outputs": [
    {
     "name": "stdout",
     "output_type": "stream",
     "text": [
      "<class 'pandas.core.frame.DataFrame'>\n",
      "Int64Index: 5997 entries, 0 to 5996\n",
      "Data columns (total 63 columns):\n",
      " #   Column                  Non-Null Count  Dtype  \n",
      "---  ------                  --------------  -----  \n",
      " 0   PrivCo_ID               5997 non-null   int64  \n",
      " 1   profile_type            5997 non-null   object \n",
      " 2   classification          5997 non-null   object \n",
      " 3   status                  5997 non-null   object \n",
      " 4   year_founded            5997 non-null   int64  \n",
      " 5   City                    5948 non-null   object \n",
      " 6   State                   5933 non-null   object \n",
      " 7   Country                 5997 non-null   object \n",
      " 8   Zip                     4796 non-null   object \n",
      " 9   Industry_PICS           5980 non-null   object \n",
      " 10  Keywords                5812 non-null   object \n",
      " 11  sic                     201 non-null    object \n",
      " 12  naics                   564 non-null    object \n",
      " 13  Company_Tags            3631 non-null   object \n",
      " 14  fiscal_month            5997 non-null   int64  \n",
      " 15  fiscal_day              5997 non-null   int64  \n",
      " 16  Total_Round             5997 non-null   float64\n",
      " 17  index_total_funding     5997 non-null   float64\n",
      " 18  Latest_Valuation        5545 non-null   float64\n",
      " 19  Latest_Valuation_Year   5545 non-null   float64\n",
      " 20  1 Year Revenue Growth   3928 non-null   float64\n",
      " 21  3 Year Revenue Growth   5997 non-null   float64\n",
      " 22  1 Year Employee Growth  2117 non-null   float64\n",
      " 23  3 Year Employee Growth  549 non-null    float64\n",
      " 24  2023 Revenue            5997 non-null   float64\n",
      " 25  2022 Revenue            5997 non-null   float64\n",
      " 26  2021 Revenue            5997 non-null   float64\n",
      " 27  2020 Revenue            5997 non-null   float64\n",
      " 28  2019 Revenue            5997 non-null   float64\n",
      " 29  2018 Revenue            291 non-null    float64\n",
      " 30  2017 Revenue            160 non-null    float64\n",
      " 31  2023 Employees          2725 non-null   float64\n",
      " 32  2022 Employees          2314 non-null   float64\n",
      " 33  2021 Employees          2138 non-null   float64\n",
      " 34  2020 Employees          1212 non-null   float64\n",
      " 35  2019 Employees          612 non-null    float64\n",
      " 36  2018 Employees          292 non-null    float64\n",
      " 37  2017 Employees          157 non-null    float64\n",
      " 38  2023 EBITDA             2170 non-null   float64\n",
      " 39  2022 EBITDA             1391 non-null   float64\n",
      " 40  2021 EBITDA             855 non-null    float64\n",
      " 41  2020 EBITDA             506 non-null    float64\n",
      " 42  2019 EBITDA             238 non-null    float64\n",
      " 43  2018 EBITDA             143 non-null    float64\n",
      " 44  2017 EBITDA             131 non-null    float64\n",
      " 45  2023 EV                 2174 non-null   float64\n",
      " 46  2022 EV                 1378 non-null   float64\n",
      " 47  2021 EV                 842 non-null    float64\n",
      " 48  2020 EV                 485 non-null    float64\n",
      " 49  2019 EV                 218 non-null    float64\n",
      " 50  2018 EV                 142 non-null    float64\n",
      " 51  2017 EV                 130 non-null    float64\n",
      " 52  2023 Net Income         2170 non-null   float64\n",
      " 53  2022 Net Income         1393 non-null   float64\n",
      " 54  2021 Net Income         846 non-null    float64\n",
      " 55  2020 Net Income         33 non-null     float64\n",
      " 56  2019 Net Income         31 non-null     float64\n",
      " 57  2018 Net Income         7 non-null      float64\n",
      " 58  2017 Net Income         0 non-null      float64\n",
      " 59  CAGR                    3929 non-null   float64\n",
      " 60  Latest EBITDA           5997 non-null   float64\n",
      " 61  PE_Backed_Yes           5997 non-null   int64  \n",
      " 62  VC_Backed_Yes           5997 non-null   int64  \n",
      "dtypes: float64(45), int64(6), object(12)\n",
      "memory usage: 2.9+ MB\n"
     ]
    }
   ],
   "source": [
    "columns_to_encode = ['PE_Backed','VC_Backed']\n",
    "df = pd.get_dummies(df, columns=columns_to_encode)\n",
    "df = df.drop(['PE_Backed_No', 'VC_Backed_No'], axis=1)\n",
    "df['PE_Backed_Yes'] = df['PE_Backed_Yes'].astype('int')\n",
    "df['VC_Backed_Yes'] = df['VC_Backed_Yes'].astype('int')\n",
    "df.info()"
   ]
  },
  {
   "cell_type": "markdown",
   "id": "5469f224-4cbc-4d6b-acc2-37194330bc8d",
   "metadata": {},
   "source": [
    "# Drop any rows that have NaN for Latest Valuation"
   ]
  },
  {
   "cell_type": "code",
   "execution_count": 47,
   "id": "3f8fe3f2-d645-46c1-9aef-6ab43f0327f5",
   "metadata": {
    "tags": []
   },
   "outputs": [
    {
     "name": "stdout",
     "output_type": "stream",
     "text": [
      "<class 'pandas.core.frame.DataFrame'>\n",
      "Int64Index: 3698 entries, 1 to 5995\n",
      "Data columns (total 63 columns):\n",
      " #   Column                  Non-Null Count  Dtype  \n",
      "---  ------                  --------------  -----  \n",
      " 0   PrivCo_ID               3698 non-null   int64  \n",
      " 1   profile_type            3698 non-null   object \n",
      " 2   classification          3698 non-null   object \n",
      " 3   status                  3698 non-null   object \n",
      " 4   year_founded            3698 non-null   int64  \n",
      " 5   City                    3685 non-null   object \n",
      " 6   State                   3689 non-null   object \n",
      " 7   Country                 3698 non-null   object \n",
      " 8   Zip                     3538 non-null   object \n",
      " 9   Industry_PICS           3697 non-null   object \n",
      " 10  Keywords                3657 non-null   object \n",
      " 11  sic                     184 non-null    object \n",
      " 12  naics                   458 non-null    object \n",
      " 13  Company_Tags            2624 non-null   object \n",
      " 14  fiscal_month            3698 non-null   int64  \n",
      " 15  fiscal_day              3698 non-null   int64  \n",
      " 16  Total_Round             3698 non-null   float64\n",
      " 17  index_total_funding     3698 non-null   float64\n",
      " 18  Latest_Valuation        3698 non-null   float64\n",
      " 19  Latest_Valuation_Year   3698 non-null   float64\n",
      " 20  1 Year Revenue Growth   3698 non-null   float64\n",
      " 21  3 Year Revenue Growth   3698 non-null   float64\n",
      " 22  1 Year Employee Growth  1964 non-null   float64\n",
      " 23  3 Year Employee Growth  523 non-null    float64\n",
      " 24  2023 Revenue            3698 non-null   float64\n",
      " 25  2022 Revenue            3698 non-null   float64\n",
      " 26  2021 Revenue            3698 non-null   float64\n",
      " 27  2020 Revenue            3698 non-null   float64\n",
      " 28  2019 Revenue            3698 non-null   float64\n",
      " 29  2018 Revenue            276 non-null    float64\n",
      " 30  2017 Revenue            159 non-null    float64\n",
      " 31  2023 Employees          756 non-null    float64\n",
      " 32  2022 Employees          2090 non-null   float64\n",
      " 33  2021 Employees          1983 non-null   float64\n",
      " 34  2020 Employees          1074 non-null   float64\n",
      " 35  2019 Employees          581 non-null    float64\n",
      " 36  2018 Employees          277 non-null    float64\n",
      " 37  2017 Employees          155 non-null    float64\n",
      " 38  2023 EBITDA             942 non-null    float64\n",
      " 39  2022 EBITDA             1267 non-null   float64\n",
      " 40  2021 EBITDA             789 non-null    float64\n",
      " 41  2020 EBITDA             431 non-null    float64\n",
      " 42  2019 EBITDA             219 non-null    float64\n",
      " 43  2018 EBITDA             140 non-null    float64\n",
      " 44  2017 EBITDA             130 non-null    float64\n",
      " 45  2023 EV                 943 non-null    float64\n",
      " 46  2022 EV                 1278 non-null   float64\n",
      " 47  2021 EV                 793 non-null    float64\n",
      " 48  2020 EV                 424 non-null    float64\n",
      " 49  2019 EV                 211 non-null    float64\n",
      " 50  2018 EV                 140 non-null    float64\n",
      " 51  2017 EV                 130 non-null    float64\n",
      " 52  2023 Net Income         942 non-null    float64\n",
      " 53  2022 Net Income         1267 non-null   float64\n",
      " 54  2021 Net Income         781 non-null    float64\n",
      " 55  2020 Net Income         16 non-null     float64\n",
      " 56  2019 Net Income         15 non-null     float64\n",
      " 57  2018 Net Income         6 non-null      float64\n",
      " 58  2017 Net Income         0 non-null      float64\n",
      " 59  CAGR                    3698 non-null   float64\n",
      " 60  Latest EBITDA           3698 non-null   float64\n",
      " 61  PE_Backed_Yes           3698 non-null   int64  \n",
      " 62  VC_Backed_Yes           3698 non-null   int64  \n",
      "dtypes: float64(45), int64(6), object(12)\n",
      "memory usage: 1.8+ MB\n"
     ]
    }
   ],
   "source": [
    "df = df.dropna(subset=['Latest_Valuation'],  how ='any')\n",
    "\n",
    "df = df.dropna(subset=['3 Year Revenue Growth', 'Latest EBITDA', 'CAGR'],  how ='any')\n",
    "\n",
    "\n",
    "# using first 'Total_Round' ,'1 Year Revenue Growth', '2023 Revenue', 'CAGR', 'PE_Backed_Yes', 'VC_Backed_Yes, \n",
    "df.info()"
   ]
  },
  {
   "cell_type": "code",
   "execution_count": 48,
   "id": "b69388db-c6e5-46d5-b769-d8e530a0f12c",
   "metadata": {
    "tags": []
   },
   "outputs": [
    {
     "data": {
      "text/plain": [
       "['PrivCo_ID',\n",
       " 'profile_type',\n",
       " 'classification',\n",
       " 'status',\n",
       " 'year_founded',\n",
       " 'Country',\n",
       " 'fiscal_month',\n",
       " 'fiscal_day',\n",
       " 'Total_Round',\n",
       " 'index_total_funding',\n",
       " 'Latest_Valuation',\n",
       " 'Latest_Valuation_Year',\n",
       " '1 Year Revenue Growth',\n",
       " '3 Year Revenue Growth',\n",
       " '2023 Revenue',\n",
       " '2022 Revenue',\n",
       " '2021 Revenue',\n",
       " '2020 Revenue',\n",
       " '2019 Revenue',\n",
       " 'CAGR',\n",
       " 'Latest EBITDA',\n",
       " 'PE_Backed_Yes',\n",
       " 'VC_Backed_Yes']"
      ]
     },
     "execution_count": 48,
     "metadata": {},
     "output_type": "execute_result"
    }
   ],
   "source": [
    "df.columns\n",
    "non_null_columns = [col for col in df.columns if not df[col].isnull().any()]\n",
    "non_null_columns"
   ]
  },
  {
   "cell_type": "code",
   "execution_count": 49,
   "id": "f6f21585-f9b6-4435-8ee6-b884b8297b4c",
   "metadata": {
    "tags": []
   },
   "outputs": [
    {
     "name": "stdout",
     "output_type": "stream",
     "text": [
      "<class 'pandas.core.frame.DataFrame'>\n",
      "Int64Index: 3698 entries, 1 to 5995\n",
      "Data columns (total 14 columns):\n",
      " #   Column                 Non-Null Count  Dtype  \n",
      "---  ------                 --------------  -----  \n",
      " 0   year_founded           3698 non-null   int64  \n",
      " 1   Total_Round            3698 non-null   float64\n",
      " 2   index_total_funding    3698 non-null   float64\n",
      " 3   1 Year Revenue Growth  3698 non-null   float64\n",
      " 4   3 Year Revenue Growth  3698 non-null   float64\n",
      " 5   2023 Revenue           3698 non-null   float64\n",
      " 6   2022 Revenue           3698 non-null   float64\n",
      " 7   2021 Revenue           3698 non-null   float64\n",
      " 8   2020 Revenue           3698 non-null   float64\n",
      " 9   2019 Revenue           3698 non-null   float64\n",
      " 10  CAGR                   3698 non-null   float64\n",
      " 11  Latest EBITDA          3698 non-null   float64\n",
      " 12  PE_Backed_Yes          3698 non-null   int64  \n",
      " 13  VC_Backed_Yes          3698 non-null   int64  \n",
      "dtypes: float64(11), int64(3)\n",
      "memory usage: 433.4 KB\n",
      "None\n",
      "<class 'pandas.core.series.Series'>\n",
      "Int64Index: 3698 entries, 1 to 5995\n",
      "Series name: Latest_Valuation\n",
      "Non-Null Count  Dtype  \n",
      "--------------  -----  \n",
      "3698 non-null   float64\n",
      "dtypes: float64(1)\n",
      "memory usage: 57.8 KB\n",
      "None\n"
     ]
    }
   ],
   "source": [
    "from sklearn.model_selection import train_test_split\n",
    "from sklearn.ensemble import RandomForestRegressor\n",
    "from sklearn.metrics import mean_squared_error\n",
    "import numpy as np\n",
    "\n",
    "# Assuming `df` is your DataFrame and preprocessing is done\n",
    "# '3 Year Revenue Growth', '2023 Revenue','2022 Revenue','2021 Revenue', '2020 Revenue', '2019 Revenue', 'Latest EBITDA']\n",
    "\n",
    "y = df['Latest_Valuation']\n",
    "\n",
    "features = ['year_founded', 'Total_Round',\n",
    "       'index_total_funding',\n",
    "       '1 Year Revenue Growth', '3 Year Revenue Growth', '2023 Revenue',\n",
    "       '2022 Revenue', '2021 Revenue', '2020 Revenue', '2019 Revenue', 'CAGR',\n",
    "       'Latest EBITDA', 'PE_Backed_Yes', 'VC_Backed_Yes']\n",
    "\n",
    "# Creating a new DataFrame X with only specified columns from df\n",
    "X = df[features]\n",
    "\n",
    "\n",
    "\n",
    "\n",
    "print(X.info())\n",
    "print(y.info())"
   ]
  },
  {
   "cell_type": "code",
   "execution_count": 50,
   "id": "573abb24-31a9-4bfd-8f4f-7c22097d1eb1",
   "metadata": {
    "tags": []
   },
   "outputs": [
    {
     "data": {
      "text/plain": [
       "Index(['year_founded', 'Total_Round', 'index_total_funding',\n",
       "       '1 Year Revenue Growth', '3 Year Revenue Growth', '2023 Revenue',\n",
       "       '2022 Revenue', '2021 Revenue', '2020 Revenue', '2019 Revenue', 'CAGR',\n",
       "       'Latest EBITDA', 'PE_Backed_Yes', 'VC_Backed_Yes'],\n",
       "      dtype='object')"
      ]
     },
     "execution_count": 50,
     "metadata": {},
     "output_type": "execute_result"
    }
   ],
   "source": [
    "X.columns"
   ]
  },
  {
   "cell_type": "markdown",
   "id": "036808b6-880f-4b23-a852-61c8b5e4e6cc",
   "metadata": {},
   "source": [
    "### Model V3: Cross Validation"
   ]
  },
  {
   "cell_type": "code",
   "execution_count": 51,
   "id": "622001a4-f9f0-4fb1-a370-36387dad6364",
   "metadata": {
    "tags": []
   },
   "outputs": [
    {
     "name": "stdout",
     "output_type": "stream",
     "text": [
      "Cross-Validation Scores (Negative Mean Absolute Error): [-0.00129387 -0.00085403 -0.00093258 -0.00206162 -0.00118452]\n",
      "Average MAE: 0.0012653251640495013\n"
     ]
    }
   ],
   "source": [
    "import pandas as pd\n",
    "import numpy as np\n",
    "from sklearn.model_selection import train_test_split, cross_val_score, KFold\n",
    "from sklearn.linear_model import LinearRegression\n",
    "from sklearn.preprocessing import MinMaxScaler\n",
    "\n",
    "# Load your dataset into DataFrame df\n",
    "# df = pd.read_csv('your_data.csv')  # Uncomment and modify if starting from a CSV file\n",
    "\n",
    "# Define features and target\n",
    "X = df[['index_total_funding', '3 Year Revenue Growth', '2023 Revenue' , '2022 Revenue', '2021 Revenue', '2020 Revenue', '2019 Revenue', 'CAGR', 'Latest EBITDA', 'PE_Backed_Yes', 'VC_Backed_Yes']]\n",
    "y = df[['Latest_Valuation']]  # Keep y as a DataFrame for consistent handling\n",
    "\n",
    "# Initialize two separate scalers\n",
    "scaler_X = MinMaxScaler(feature_range=(0, 1))\n",
    "scaler_y = MinMaxScaler(feature_range=(0, 1))\n",
    "\n",
    "# Scale the features and target\n",
    "X_scaled = scaler_X.fit_transform(X)\n",
    "y_scaled = scaler_y.fit_transform(y)\n",
    "\n",
    "# Initialize the linear regression model\n",
    "model = LinearRegression()\n",
    "\n",
    "# Prepare cross-validation (e.g., 5-fold cross-validation)\n",
    "cv = KFold(n_splits=5, random_state=42, shuffle=True)\n",
    "\n",
    "# Perform cross-validation\n",
    "cv_scores = cross_val_score(model, X_scaled, y_scaled.ravel(), cv=cv, scoring='neg_mean_absolute_error')\n",
    "\n",
    "# Print the scores\n",
    "print(\"Cross-Validation Scores (Negative Mean Absolute Error):\", cv_scores)\n",
    "print(\"Average MAE:\", -cv_scores.mean())  # Convert from negative to positive\n"
   ]
  },
  {
   "cell_type": "markdown",
   "id": "6756d577-beb4-4517-8ac2-1aff253403bf",
   "metadata": {},
   "source": [
    "### Model V2: Regular Split "
   ]
  },
  {
   "cell_type": "code",
   "execution_count": 41,
   "id": "8a60892a-64e4-4972-8791-42429dcc9db5",
   "metadata": {
    "tags": []
   },
   "outputs": [
    {
     "name": "stdout",
     "output_type": "stream",
     "text": [
      "Mean Absolute Error: 0.0012938715384944717\n"
     ]
    }
   ],
   "source": [
    "import pandas as pd\n",
    "import numpy as np\n",
    "from sklearn.model_selection import train_test_split\n",
    "from sklearn.linear_model import LinearRegression\n",
    "from sklearn.preprocessing import MinMaxScaler\n",
    "\n",
    "# Load your dataset into DataFrame df\n",
    "# df = pd.read_csv('your_data.csv')  # Uncomment and modify if starting from a CSV file\n",
    "\n",
    "# Define features and target\n",
    "X = df[['index_total_funding', '3 Year Revenue Growth', '2023 Revenue' , '2022 Revenue', '2021 Revenue', '2020 Revenue', '2019 Revenue', 'CAGR', 'Latest EBITDA', 'PE_Backed_Yes', 'VC_Backed_Yes']]\n",
    "y = df[['Latest_Valuation']]  # Keep y as a DataFrame for consistent handling\n",
    "\n",
    "# Split data into train and test sets\n",
    "X_train, X_test, y_train, y_test = train_test_split(X, y, test_size=0.2, random_state=42)  # 20% data as test set\n",
    "\n",
    "# Initialize two separate scalers\n",
    "scaler_X = MinMaxScaler(feature_range=(0, 1))\n",
    "scaler_y = MinMaxScaler(feature_range=(0, 1))\n",
    "\n",
    "# Fit and transform training features\n",
    "X_scaled_train = scaler_X.fit_transform(X_train)\n",
    "# Transform testing features\n",
    "X_scaled_test = scaler_X.transform(X_test)\n",
    "\n",
    "# Fit and transform training target\n",
    "y_scaled_train = scaler_y.fit_transform(y_train)\n",
    "# Transform testing target\n",
    "y_scaled_test = scaler_y.transform(y_test)\n",
    "\n",
    "# Fit the linear regression model on scaled training data\n",
    "model = LinearRegression().fit(X_scaled_train, y_scaled_train)\n",
    "\n",
    "# Predict using the linear model on scaled testing data\n",
    "predictions = model.predict(X_scaled_test)\n",
    "\n",
    "# Calculate mean absolute error on scaled testing data\n",
    "error = np.mean(np.abs(predictions - y_scaled_test))\n",
    "print('Mean Absolute Error:', error)\n"
   ]
  },
  {
   "cell_type": "markdown",
   "id": "48f449ff-a6c1-4d6b-8377-b9b820e6ecb4",
   "metadata": {
    "tags": []
   },
   "source": [
    "##### X_test = df[['3 Year Revenue Growth', 'Latest EBITDA']]    Mean Absolute Error: 0.0018742812834040177\n",
    "##### X_test = df[['3 Year Revenue Growth', 'Latest EBITDA', '2019 Revenue']]   Mean Absolute Error: 0.0018478605057903994\n",
    "##### X_test = df[['3 Year Revenue Growth', '2023 Revenue', '2022 Revenue', '2021 Revenue', '2020 Revenue', '2019 Revenue', 'CAGR', 'Latest EBITDA']] Mean Absolute Error: 0.001671858247437789\n",
    "\n",
    "\n",
    "\n",
    "##### X_test = df[['index_total_funding', '3 Year Revenue Growth', '2023 Revenue' , '2022 Revenue', '2021 Revenue', '2020 Revenue', '2019 Revenue', 'CAGR', 'Latest EBITDA', 'PE_Backed_Yes', 'VC_Backed_Yes']] Mean Absolute Error: 0.0011351270053765424\n",
    "       \n",
    "       \n",
    "##### X_test = df[['year_founded', 'Total_Round', 'index_total_funding',\n",
    "       '1 Year Revenue Growth', '3 Year Revenue Growth', '2023 Revenue',\n",
    "       '2022 Revenue', '2021 Revenue', '2020 Revenue', '2019 Revenue', 'CAGR',\n",
    "       'Latest EBITDA', 'PE_Backed_Yes', 'VC_Backed_Yes']] Mean Absolute Error: 0.001265480011511104\n",
    "       "
   ]
  },
  {
   "cell_type": "markdown",
   "id": "d53f47c5-30fd-4d82-9645-72a0022b3bab",
   "metadata": {},
   "source": [
    "## Model V1: fit_transform GD"
   ]
  },
  {
   "cell_type": "code",
   "execution_count": 40,
   "id": "d6146a5c-3e55-4fa4-811e-0774058ef66d",
   "metadata": {
    "tags": []
   },
   "outputs": [
    {
     "ename": "KeyError",
     "evalue": "\"['Latest EBITDA'] not in index\"",
     "output_type": "error",
     "traceback": [
      "\u001b[0;31m---------------------------------------------------------------------------\u001b[0m",
      "\u001b[0;31mKeyError\u001b[0m                                  Traceback (most recent call last)",
      "Cell \u001b[0;32mIn[40], line 17\u001b[0m\n\u001b[1;32m     13\u001b[0m scaler \u001b[38;5;241m=\u001b[39m MinMaxScaler(feature_range\u001b[38;5;241m=\u001b[39m(\u001b[38;5;241m0\u001b[39m, \u001b[38;5;241m1\u001b[39m))\n\u001b[1;32m     15\u001b[0m columns_to_scale_lib \u001b[38;5;241m=\u001b[39m [\u001b[38;5;124m'\u001b[39m\u001b[38;5;124m3 Year Revenue Growth\u001b[39m\u001b[38;5;124m'\u001b[39m, \u001b[38;5;124m'\u001b[39m\u001b[38;5;124mLatest EBITDA\u001b[39m\u001b[38;5;124m'\u001b[39m]\n\u001b[0;32m---> 17\u001b[0m x_lib \u001b[38;5;241m=\u001b[39m scaler\u001b[38;5;241m.\u001b[39mfit_transform(X[columns_to_scale_lib])\n\u001b[1;32m     19\u001b[0m y_lib \u001b[38;5;241m=\u001b[39m scaler\u001b[38;5;241m.\u001b[39mfit_transform(df[[\u001b[38;5;124m\"\u001b[39m\u001b[38;5;124mLatest_Valuation\u001b[39m\u001b[38;5;124m\"\u001b[39m]])\n\u001b[1;32m     22\u001b[0m model \u001b[38;5;241m=\u001b[39m LinearRegression()\u001b[38;5;241m.\u001b[39mfit(x_lib, y_lib)\n",
      "File \u001b[0;32m~/anaconda3/lib/python3.11/site-packages/pandas/core/frame.py:3813\u001b[0m, in \u001b[0;36mDataFrame.__getitem__\u001b[0;34m(self, key)\u001b[0m\n\u001b[1;32m   3811\u001b[0m     \u001b[38;5;28;01mif\u001b[39;00m is_iterator(key):\n\u001b[1;32m   3812\u001b[0m         key \u001b[38;5;241m=\u001b[39m \u001b[38;5;28mlist\u001b[39m(key)\n\u001b[0;32m-> 3813\u001b[0m     indexer \u001b[38;5;241m=\u001b[39m \u001b[38;5;28mself\u001b[39m\u001b[38;5;241m.\u001b[39mcolumns\u001b[38;5;241m.\u001b[39m_get_indexer_strict(key, \u001b[38;5;124m\"\u001b[39m\u001b[38;5;124mcolumns\u001b[39m\u001b[38;5;124m\"\u001b[39m)[\u001b[38;5;241m1\u001b[39m]\n\u001b[1;32m   3815\u001b[0m \u001b[38;5;66;03m# take() does not accept boolean indexers\u001b[39;00m\n\u001b[1;32m   3816\u001b[0m \u001b[38;5;28;01mif\u001b[39;00m \u001b[38;5;28mgetattr\u001b[39m(indexer, \u001b[38;5;124m\"\u001b[39m\u001b[38;5;124mdtype\u001b[39m\u001b[38;5;124m\"\u001b[39m, \u001b[38;5;28;01mNone\u001b[39;00m) \u001b[38;5;241m==\u001b[39m \u001b[38;5;28mbool\u001b[39m:\n",
      "File \u001b[0;32m~/anaconda3/lib/python3.11/site-packages/pandas/core/indexes/base.py:6070\u001b[0m, in \u001b[0;36mIndex._get_indexer_strict\u001b[0;34m(self, key, axis_name)\u001b[0m\n\u001b[1;32m   6067\u001b[0m \u001b[38;5;28;01melse\u001b[39;00m:\n\u001b[1;32m   6068\u001b[0m     keyarr, indexer, new_indexer \u001b[38;5;241m=\u001b[39m \u001b[38;5;28mself\u001b[39m\u001b[38;5;241m.\u001b[39m_reindex_non_unique(keyarr)\n\u001b[0;32m-> 6070\u001b[0m \u001b[38;5;28mself\u001b[39m\u001b[38;5;241m.\u001b[39m_raise_if_missing(keyarr, indexer, axis_name)\n\u001b[1;32m   6072\u001b[0m keyarr \u001b[38;5;241m=\u001b[39m \u001b[38;5;28mself\u001b[39m\u001b[38;5;241m.\u001b[39mtake(indexer)\n\u001b[1;32m   6073\u001b[0m \u001b[38;5;28;01mif\u001b[39;00m \u001b[38;5;28misinstance\u001b[39m(key, Index):\n\u001b[1;32m   6074\u001b[0m     \u001b[38;5;66;03m# GH 42790 - Preserve name from an Index\u001b[39;00m\n",
      "File \u001b[0;32m~/anaconda3/lib/python3.11/site-packages/pandas/core/indexes/base.py:6133\u001b[0m, in \u001b[0;36mIndex._raise_if_missing\u001b[0;34m(self, key, indexer, axis_name)\u001b[0m\n\u001b[1;32m   6130\u001b[0m     \u001b[38;5;28;01mraise\u001b[39;00m \u001b[38;5;167;01mKeyError\u001b[39;00m(\u001b[38;5;124mf\u001b[39m\u001b[38;5;124m\"\u001b[39m\u001b[38;5;124mNone of [\u001b[39m\u001b[38;5;132;01m{\u001b[39;00mkey\u001b[38;5;132;01m}\u001b[39;00m\u001b[38;5;124m] are in the [\u001b[39m\u001b[38;5;132;01m{\u001b[39;00maxis_name\u001b[38;5;132;01m}\u001b[39;00m\u001b[38;5;124m]\u001b[39m\u001b[38;5;124m\"\u001b[39m)\n\u001b[1;32m   6132\u001b[0m not_found \u001b[38;5;241m=\u001b[39m \u001b[38;5;28mlist\u001b[39m(ensure_index(key)[missing_mask\u001b[38;5;241m.\u001b[39mnonzero()[\u001b[38;5;241m0\u001b[39m]]\u001b[38;5;241m.\u001b[39munique())\n\u001b[0;32m-> 6133\u001b[0m \u001b[38;5;28;01mraise\u001b[39;00m \u001b[38;5;167;01mKeyError\u001b[39;00m(\u001b[38;5;124mf\u001b[39m\u001b[38;5;124m\"\u001b[39m\u001b[38;5;132;01m{\u001b[39;00mnot_found\u001b[38;5;132;01m}\u001b[39;00m\u001b[38;5;124m not in index\u001b[39m\u001b[38;5;124m\"\u001b[39m)\n",
      "\u001b[0;31mKeyError\u001b[0m: \"['Latest EBITDA'] not in index\""
     ]
    }
   ],
   "source": [
    "# fit a regression model\n",
    "import pandas as pd\n",
    "import numpy as np\n",
    "from sklearn import metrics\n",
    "from sklearn.linear_model import LinearRegression\n",
    "from sklearn.metrics import r2_score\n",
    "\n",
    "# use the minMaxScaler \n",
    "from sklearn.preprocessing import MinMaxScaler\n",
    "import numpy as np\n",
    "\n",
    "\n",
    "scaler = MinMaxScaler(feature_range=(0, 1))\n",
    "\n",
    "columns_to_scale_lib = ['3 Year Revenue Growth', 'Latest EBITDA']\n",
    "\n",
    "x_lib = scaler.fit_transform(X[columns_to_scale_lib])\n",
    "\n",
    "y_lib = scaler.fit_transform(df[[\"Latest_Valuation\"]])\n",
    "\n",
    "\n",
    "model = LinearRegression().fit(x_lib, y_lib)\n",
    "model\n",
    "print(model.coef_)\n",
    "print(model.intercept_)\n"
   ]
  },
  {
   "cell_type": "code",
   "execution_count": 30,
   "id": "431dda09-abb4-4de0-a71d-aafaeef60cdf",
   "metadata": {
    "tags": []
   },
   "outputs": [
    {
     "name": "stdout",
     "output_type": "stream",
     "text": [
      "[0.00187428]\n"
     ]
    }
   ],
   "source": [
    "\n",
    "\n",
    "x_scaled_test = np.append(scaler.fit_transform(X[[\"3 Year Revenue Growth\"]]), scaler.fit_transform(X[[\"Latest EBITDA\"]]), axis=1)\n",
    "\n",
    "y_scaled_test = scaler.fit_transform(df[[\"Latest_Valuation\"]])\n",
    "\n",
    "error_lib = (1/len(x_scaled_test)) * sum(abs((0.03397638*x1 + 0.10654523*x2 - 0.01161255) - y) for (x1,x2),y in zip(x_scaled_test, y_scaled_test))\n",
    "## End ANSWER\n",
    "error_lib = print(abs(error_lib))\n"
   ]
  },
  {
   "cell_type": "code",
   "execution_count": 12,
   "id": "2eb9cb1b-9706-47c5-99f2-2beeaf8a3ad0",
   "metadata": {
    "tags": []
   },
   "outputs": [
    {
     "data": {
      "text/plain": [
       "4.012757566970761"
      ]
     },
     "execution_count": 12,
     "metadata": {},
     "output_type": "execute_result"
    }
   ],
   "source": [
    "v = rmse/y_avg\n",
    "v"
   ]
  },
  {
   "cell_type": "code",
   "execution_count": null,
   "id": "0f88ee79-62a3-49e6-990a-7fe98b00a08c",
   "metadata": {},
   "outputs": [],
   "source": []
  },
  {
   "cell_type": "code",
   "execution_count": 13,
   "id": "cd1f37c5-35f5-4102-938d-ab69529adbce",
   "metadata": {
    "tags": []
   },
   "outputs": [],
   "source": [
    "#"
   ]
  }
 ],
 "metadata": {
  "kernelspec": {
   "display_name": "Python 3 (ipykernel)",
   "language": "python",
   "name": "python3"
  },
  "language_info": {
   "codemirror_mode": {
    "name": "ipython",
    "version": 3
   },
   "file_extension": ".py",
   "mimetype": "text/x-python",
   "name": "python",
   "nbconvert_exporter": "python",
   "pygments_lexer": "ipython3",
   "version": "3.11.4"
  }
 },
 "nbformat": 4,
 "nbformat_minor": 5
}
