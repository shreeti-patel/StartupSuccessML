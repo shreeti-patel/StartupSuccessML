{
 "cells": [
  {
   "cell_type": "code",
   "execution_count": 37,
   "id": "e15dbb8a-cb06-465b-8097-32c481175db7",
   "metadata": {
    "tags": []
   },
   "outputs": [
    {
     "name": "stdout",
     "output_type": "stream",
     "text": [
      "Collecting xgboost\n",
      "  Obtaining dependency information for xgboost from https://files.pythonhosted.org/packages/03/e6/4aef6799badc2693548559bad5b56d56cfe89eada337c815fdfe92175250/xgboost-2.0.3-py3-none-macosx_12_0_arm64.whl.metadata\n",
      "  Downloading xgboost-2.0.3-py3-none-macosx_12_0_arm64.whl.metadata (2.0 kB)\n",
      "Requirement already satisfied: numpy in /Users/shreetipatel/anaconda3/lib/python3.11/site-packages (from xgboost) (1.24.3)\n",
      "Requirement already satisfied: scipy in /Users/shreetipatel/anaconda3/lib/python3.11/site-packages (from xgboost) (1.10.1)\n",
      "Downloading xgboost-2.0.3-py3-none-macosx_12_0_arm64.whl (1.9 MB)\n",
      "\u001b[2K   \u001b[90m━━━━━━━━━━━━━━━━━━━━━━━━━━━━━━━━━━━━━━━━\u001b[0m \u001b[32m1.9/1.9 MB\u001b[0m \u001b[31m11.7 MB/s\u001b[0m eta \u001b[36m0:00:00\u001b[0m00:01\u001b[0m0:01\u001b[0m\n",
      "\u001b[?25hInstalling collected packages: xgboost\n",
      "Successfully installed xgboost-2.0.3\n"
     ]
    }
   ],
   "source": [
    "!pip install xgboost"
   ]
  },
  {
   "cell_type": "code",
   "execution_count": 125,
   "id": "a3b5f610-108b-4344-b070-67544253aa6c",
   "metadata": {
    "tags": []
   },
   "outputs": [],
   "source": [
    "import pandas as pd\n",
    "import numpy as np\n",
    "import matplotlib.pyplot as plt\n",
    "import seaborn as sns\n",
    "from xgboost import XGBClassifier\n",
    "from sklearn.model_selection import cross_val_score"
   ]
  },
  {
   "cell_type": "code",
   "execution_count": 126,
   "id": "f8800dfe-c1b0-49bf-b1a2-def6a39438fa",
   "metadata": {
    "tags": []
   },
   "outputs": [
    {
     "name": "stdout",
     "output_type": "stream",
     "text": [
      "<class 'pandas.core.frame.DataFrame'>\n",
      "Int64Index: 27220 entries, 0 to 27219\n",
      "Data columns (total 29 columns):\n",
      " #   Column                  Non-Null Count  Dtype              \n",
      "---  ------                  --------------  -----              \n",
      " 0   permalink               27220 non-null  object             \n",
      " 1   name                    27219 non-null  object             \n",
      " 2   homepage_url            25447 non-null  object             \n",
      " 3   category_list           26824 non-null  object             \n",
      " 4   funding_total_usd       22952 non-null  float64            \n",
      " 5   status                  27220 non-null  object             \n",
      " 6   country_code            27220 non-null  object             \n",
      " 7   state_code              27192 non-null  object             \n",
      " 8   region                  27152 non-null  object             \n",
      " 9   city                    27152 non-null  object             \n",
      " 10  funding_rounds          27220 non-null  int64              \n",
      " 11  founded_at              27220 non-null  datetime64[ns, UTC]\n",
      " 12  first_funding_at        27220 non-null  datetime64[ns, UTC]\n",
      " 13  last_funding_at         27220 non-null  datetime64[ns, UTC]\n",
      " 14  2014_funding_total_usd  18797 non-null  float64            \n",
      " 15  2014_funding_rounds     27220 non-null  int64              \n",
      " 16  2014_status             21646 non-null  object             \n",
      " 17  2014_last_funding_at    22035 non-null  datetime64[ns, UTC]\n",
      " 18  acquirer_name           3025 non-null   object             \n",
      " 19  acquirer_category_list  2919 non-null   object             \n",
      " 20  acquirer_country_code   2924 non-null   object             \n",
      " 21  acquirer_state_code     2900 non-null   object             \n",
      " 22  acquirer_region         2911 non-null   object             \n",
      " 23  acquirer_city           2911 non-null   object             \n",
      " 24  acquired_at             3024 non-null   object             \n",
      " 25  acquired_month          3024 non-null   object             \n",
      " 26  price_amount            887 non-null    float64            \n",
      " 27  price_currency_code     3025 non-null   object             \n",
      " 28  is_success              27220 non-null  int64              \n",
      "dtypes: datetime64[ns, UTC](4), float64(3), int64(3), object(19)\n",
      "memory usage: 6.2+ MB\n",
      "None\n",
      "Index(['permalink', 'name', 'homepage_url', 'category_list',\n",
      "       'funding_total_usd', 'status', 'country_code', 'state_code', 'region',\n",
      "       'city', 'funding_rounds', 'founded_at', 'first_funding_at',\n",
      "       'last_funding_at', '2014_funding_total_usd', '2014_funding_rounds',\n",
      "       '2014_status', '2014_last_funding_at', 'acquirer_name',\n",
      "       'acquirer_category_list', 'acquirer_country_code',\n",
      "       'acquirer_state_code', 'acquirer_region', 'acquirer_city',\n",
      "       'acquired_at', 'acquired_month', 'price_amount', 'price_currency_code',\n",
      "       'is_success'],\n",
      "      dtype='object')\n",
      "(27220, 29)\n"
     ]
    }
   ],
   "source": [
    "df = pd.read_pickle('cleaned_startup_data.pkl')\n",
    "print(df.info())\n",
    "print(df.columns)\n",
    "print(df.shape)"
   ]
  },
  {
   "cell_type": "code",
   "execution_count": 127,
   "id": "7a7c90a9-56d7-4d8f-ae5b-6bc3ba20b2ee",
   "metadata": {
    "tags": []
   },
   "outputs": [
    {
     "name": "stdout",
     "output_type": "stream",
     "text": [
      "<class 'pandas.core.frame.DataFrame'>\n",
      "Int64Index: 27220 entries, 0 to 27219\n",
      "Data columns (total 7 columns):\n",
      " #   Column                  Non-Null Count  Dtype  \n",
      "---  ------                  --------------  -----  \n",
      " 0   funding_total_usd       22952 non-null  float64\n",
      " 1   state_code              27192 non-null  object \n",
      " 2   region                  27152 non-null  object \n",
      " 3   funding_rounds          27220 non-null  int64  \n",
      " 4   2014_funding_total_usd  18797 non-null  float64\n",
      " 5   2014_funding_rounds     27220 non-null  int64  \n",
      " 6   is_success              27220 non-null  int64  \n",
      "dtypes: float64(2), int64(3), object(2)\n",
      "memory usage: 1.7+ MB\n"
     ]
    }
   ],
   "source": [
    "# Drop columns that should not be a part of X values\n",
    "# Thia include columsn used to define isSuccess\n",
    "df = df.drop(['permalink', 'name' , 'homepage_url', 'country_code', 'status', '2014_status','acquirer_name',\n",
    "       'acquirer_category_list', 'acquirer_country_code',\n",
    "       'acquirer_state_code', 'acquirer_region', 'acquirer_city',\n",
    "       'acquired_at', 'acquired_month', 'price_amount', 'price_currency_code'], axis = 1)\n",
    "\n",
    "#drop for testing  add datetime cols: ['founded_at', 'first_funding_at','last_funding_at',  '2014_last_funding_at']\n",
    "df = df.drop(['category_list',\n",
    "       'city', 'founded_at', 'first_funding_at',\n",
    "       'last_funding_at',\n",
    "        '2014_last_funding_at'], axis = 1)\n",
    "# add ID \n",
    "# df.reset_index(inplace=True)\n",
    "# df.rename(columns={'index': 'id'}, inplace=True)\n",
    "df.info()\n"
   ]
  },
  {
   "cell_type": "code",
   "execution_count": 128,
   "id": "94991816-8e7e-4630-81ed-f4aa90ccb1ca",
   "metadata": {
    "tags": []
   },
   "outputs": [
    {
     "data": {
      "text/plain": [
       "Index(['funding_total_usd', 'state_code', 'region', 'funding_rounds',\n",
       "       '2014_funding_total_usd', '2014_funding_rounds', 'is_success'],\n",
       "      dtype='object')"
      ]
     },
     "execution_count": 128,
     "metadata": {},
     "output_type": "execute_result"
    }
   ],
   "source": [
    "df.columns"
   ]
  },
  {
   "cell_type": "code",
   "execution_count": 129,
   "id": "95e15470-0589-4296-bfd1-20b7b353b53f",
   "metadata": {},
   "outputs": [
    {
     "data": {
      "text/html": [
       "<div>\n",
       "<style scoped>\n",
       "    .dataframe tbody tr th:only-of-type {\n",
       "        vertical-align: middle;\n",
       "    }\n",
       "\n",
       "    .dataframe tbody tr th {\n",
       "        vertical-align: top;\n",
       "    }\n",
       "\n",
       "    .dataframe thead th {\n",
       "        text-align: right;\n",
       "    }\n",
       "</style>\n",
       "<table border=\"1\" class=\"dataframe\">\n",
       "  <thead>\n",
       "    <tr style=\"text-align: right;\">\n",
       "      <th></th>\n",
       "      <th>funding_total_usd</th>\n",
       "      <th>funding_rounds</th>\n",
       "      <th>2014_funding_total_usd</th>\n",
       "      <th>2014_funding_rounds</th>\n",
       "      <th>is_success</th>\n",
       "      <th>state_code_AK</th>\n",
       "      <th>state_code_AL</th>\n",
       "      <th>state_code_AR</th>\n",
       "      <th>state_code_AZ</th>\n",
       "      <th>state_code_CA</th>\n",
       "      <th>...</th>\n",
       "      <th>region_WI - Other</th>\n",
       "      <th>region_WV - Other</th>\n",
       "      <th>region_WY - Other</th>\n",
       "      <th>region_Washington, D.C.</th>\n",
       "      <th>region_Wichita</th>\n",
       "      <th>region_Wilmington - Cape Fear, North Carolina</th>\n",
       "      <th>region_Wilmington, Delaware</th>\n",
       "      <th>region_Winston-Salem</th>\n",
       "      <th>region_Worcester</th>\n",
       "      <th>region_Youngstown</th>\n",
       "    </tr>\n",
       "  </thead>\n",
       "  <tbody>\n",
       "    <tr>\n",
       "      <th>0</th>\n",
       "      <td>NaN</td>\n",
       "      <td>1</td>\n",
       "      <td>NaN</td>\n",
       "      <td>1</td>\n",
       "      <td>0</td>\n",
       "      <td>0</td>\n",
       "      <td>0</td>\n",
       "      <td>0</td>\n",
       "      <td>0</td>\n",
       "      <td>0</td>\n",
       "      <td>...</td>\n",
       "      <td>0</td>\n",
       "      <td>0</td>\n",
       "      <td>0</td>\n",
       "      <td>0</td>\n",
       "      <td>0</td>\n",
       "      <td>0</td>\n",
       "      <td>0</td>\n",
       "      <td>0</td>\n",
       "      <td>0</td>\n",
       "      <td>0</td>\n",
       "    </tr>\n",
       "    <tr>\n",
       "      <th>1</th>\n",
       "      <td>33600000.0</td>\n",
       "      <td>4</td>\n",
       "      <td>10600000.0</td>\n",
       "      <td>2</td>\n",
       "      <td>0</td>\n",
       "      <td>0</td>\n",
       "      <td>0</td>\n",
       "      <td>0</td>\n",
       "      <td>0</td>\n",
       "      <td>1</td>\n",
       "      <td>...</td>\n",
       "      <td>0</td>\n",
       "      <td>0</td>\n",
       "      <td>0</td>\n",
       "      <td>0</td>\n",
       "      <td>0</td>\n",
       "      <td>0</td>\n",
       "      <td>0</td>\n",
       "      <td>0</td>\n",
       "      <td>0</td>\n",
       "      <td>0</td>\n",
       "    </tr>\n",
       "    <tr>\n",
       "      <th>2</th>\n",
       "      <td>NaN</td>\n",
       "      <td>1</td>\n",
       "      <td>NaN</td>\n",
       "      <td>1</td>\n",
       "      <td>0</td>\n",
       "      <td>0</td>\n",
       "      <td>0</td>\n",
       "      <td>0</td>\n",
       "      <td>0</td>\n",
       "      <td>0</td>\n",
       "      <td>...</td>\n",
       "      <td>0</td>\n",
       "      <td>0</td>\n",
       "      <td>0</td>\n",
       "      <td>0</td>\n",
       "      <td>0</td>\n",
       "      <td>0</td>\n",
       "      <td>0</td>\n",
       "      <td>0</td>\n",
       "      <td>0</td>\n",
       "      <td>0</td>\n",
       "    </tr>\n",
       "    <tr>\n",
       "      <th>3</th>\n",
       "      <td>6000000.0</td>\n",
       "      <td>1</td>\n",
       "      <td>NaN</td>\n",
       "      <td>0</td>\n",
       "      <td>0</td>\n",
       "      <td>0</td>\n",
       "      <td>0</td>\n",
       "      <td>0</td>\n",
       "      <td>0</td>\n",
       "      <td>0</td>\n",
       "      <td>...</td>\n",
       "      <td>0</td>\n",
       "      <td>0</td>\n",
       "      <td>0</td>\n",
       "      <td>0</td>\n",
       "      <td>0</td>\n",
       "      <td>0</td>\n",
       "      <td>0</td>\n",
       "      <td>0</td>\n",
       "      <td>0</td>\n",
       "      <td>0</td>\n",
       "    </tr>\n",
       "    <tr>\n",
       "      <th>4</th>\n",
       "      <td>5000000.0</td>\n",
       "      <td>1</td>\n",
       "      <td>NaN</td>\n",
       "      <td>0</td>\n",
       "      <td>1</td>\n",
       "      <td>0</td>\n",
       "      <td>0</td>\n",
       "      <td>0</td>\n",
       "      <td>0</td>\n",
       "      <td>1</td>\n",
       "      <td>...</td>\n",
       "      <td>0</td>\n",
       "      <td>0</td>\n",
       "      <td>0</td>\n",
       "      <td>0</td>\n",
       "      <td>0</td>\n",
       "      <td>0</td>\n",
       "      <td>0</td>\n",
       "      <td>0</td>\n",
       "      <td>0</td>\n",
       "      <td>0</td>\n",
       "    </tr>\n",
       "    <tr>\n",
       "      <th>...</th>\n",
       "      <td>...</td>\n",
       "      <td>...</td>\n",
       "      <td>...</td>\n",
       "      <td>...</td>\n",
       "      <td>...</td>\n",
       "      <td>...</td>\n",
       "      <td>...</td>\n",
       "      <td>...</td>\n",
       "      <td>...</td>\n",
       "      <td>...</td>\n",
       "      <td>...</td>\n",
       "      <td>...</td>\n",
       "      <td>...</td>\n",
       "      <td>...</td>\n",
       "      <td>...</td>\n",
       "      <td>...</td>\n",
       "      <td>...</td>\n",
       "      <td>...</td>\n",
       "      <td>...</td>\n",
       "      <td>...</td>\n",
       "      <td>...</td>\n",
       "    </tr>\n",
       "    <tr>\n",
       "      <th>27215</th>\n",
       "      <td>25000000.0</td>\n",
       "      <td>1</td>\n",
       "      <td>25000000.0</td>\n",
       "      <td>1</td>\n",
       "      <td>0</td>\n",
       "      <td>0</td>\n",
       "      <td>0</td>\n",
       "      <td>0</td>\n",
       "      <td>0</td>\n",
       "      <td>0</td>\n",
       "      <td>...</td>\n",
       "      <td>0</td>\n",
       "      <td>0</td>\n",
       "      <td>0</td>\n",
       "      <td>1</td>\n",
       "      <td>0</td>\n",
       "      <td>0</td>\n",
       "      <td>0</td>\n",
       "      <td>0</td>\n",
       "      <td>0</td>\n",
       "      <td>0</td>\n",
       "    </tr>\n",
       "    <tr>\n",
       "      <th>27216</th>\n",
       "      <td>34275015.0</td>\n",
       "      <td>4</td>\n",
       "      <td>34275015.0</td>\n",
       "      <td>4</td>\n",
       "      <td>0</td>\n",
       "      <td>0</td>\n",
       "      <td>0</td>\n",
       "      <td>0</td>\n",
       "      <td>0</td>\n",
       "      <td>0</td>\n",
       "      <td>...</td>\n",
       "      <td>0</td>\n",
       "      <td>0</td>\n",
       "      <td>0</td>\n",
       "      <td>0</td>\n",
       "      <td>0</td>\n",
       "      <td>0</td>\n",
       "      <td>0</td>\n",
       "      <td>0</td>\n",
       "      <td>0</td>\n",
       "      <td>0</td>\n",
       "    </tr>\n",
       "    <tr>\n",
       "      <th>27217</th>\n",
       "      <td>3300000.0</td>\n",
       "      <td>2</td>\n",
       "      <td>NaN</td>\n",
       "      <td>0</td>\n",
       "      <td>0</td>\n",
       "      <td>0</td>\n",
       "      <td>0</td>\n",
       "      <td>0</td>\n",
       "      <td>0</td>\n",
       "      <td>0</td>\n",
       "      <td>...</td>\n",
       "      <td>0</td>\n",
       "      <td>0</td>\n",
       "      <td>0</td>\n",
       "      <td>0</td>\n",
       "      <td>0</td>\n",
       "      <td>0</td>\n",
       "      <td>0</td>\n",
       "      <td>0</td>\n",
       "      <td>0</td>\n",
       "      <td>0</td>\n",
       "    </tr>\n",
       "    <tr>\n",
       "      <th>27218</th>\n",
       "      <td>2150000.0</td>\n",
       "      <td>2</td>\n",
       "      <td>2150000.0</td>\n",
       "      <td>1</td>\n",
       "      <td>0</td>\n",
       "      <td>0</td>\n",
       "      <td>0</td>\n",
       "      <td>0</td>\n",
       "      <td>0</td>\n",
       "      <td>0</td>\n",
       "      <td>...</td>\n",
       "      <td>0</td>\n",
       "      <td>0</td>\n",
       "      <td>0</td>\n",
       "      <td>0</td>\n",
       "      <td>0</td>\n",
       "      <td>0</td>\n",
       "      <td>0</td>\n",
       "      <td>0</td>\n",
       "      <td>0</td>\n",
       "      <td>0</td>\n",
       "    </tr>\n",
       "    <tr>\n",
       "      <th>27219</th>\n",
       "      <td>18192.0</td>\n",
       "      <td>1</td>\n",
       "      <td>NaN</td>\n",
       "      <td>0</td>\n",
       "      <td>0</td>\n",
       "      <td>0</td>\n",
       "      <td>0</td>\n",
       "      <td>0</td>\n",
       "      <td>0</td>\n",
       "      <td>1</td>\n",
       "      <td>...</td>\n",
       "      <td>0</td>\n",
       "      <td>0</td>\n",
       "      <td>0</td>\n",
       "      <td>0</td>\n",
       "      <td>0</td>\n",
       "      <td>0</td>\n",
       "      <td>0</td>\n",
       "      <td>0</td>\n",
       "      <td>0</td>\n",
       "      <td>0</td>\n",
       "    </tr>\n",
       "  </tbody>\n",
       "</table>\n",
       "<p>27220 rows × 297 columns</p>\n",
       "</div>"
      ],
      "text/plain": [
       "       funding_total_usd  funding_rounds  2014_funding_total_usd  \\\n",
       "0                    NaN               1                     NaN   \n",
       "1             33600000.0               4              10600000.0   \n",
       "2                    NaN               1                     NaN   \n",
       "3              6000000.0               1                     NaN   \n",
       "4              5000000.0               1                     NaN   \n",
       "...                  ...             ...                     ...   \n",
       "27215         25000000.0               1              25000000.0   \n",
       "27216         34275015.0               4              34275015.0   \n",
       "27217          3300000.0               2                     NaN   \n",
       "27218          2150000.0               2               2150000.0   \n",
       "27219            18192.0               1                     NaN   \n",
       "\n",
       "       2014_funding_rounds  is_success  state_code_AK  state_code_AL  \\\n",
       "0                        1           0              0              0   \n",
       "1                        2           0              0              0   \n",
       "2                        1           0              0              0   \n",
       "3                        0           0              0              0   \n",
       "4                        0           1              0              0   \n",
       "...                    ...         ...            ...            ...   \n",
       "27215                    1           0              0              0   \n",
       "27216                    4           0              0              0   \n",
       "27217                    0           0              0              0   \n",
       "27218                    1           0              0              0   \n",
       "27219                    0           0              0              0   \n",
       "\n",
       "       state_code_AR  state_code_AZ  state_code_CA  ...  region_WI - Other  \\\n",
       "0                  0              0              0  ...                  0   \n",
       "1                  0              0              1  ...                  0   \n",
       "2                  0              0              0  ...                  0   \n",
       "3                  0              0              0  ...                  0   \n",
       "4                  0              0              1  ...                  0   \n",
       "...              ...            ...            ...  ...                ...   \n",
       "27215              0              0              0  ...                  0   \n",
       "27216              0              0              0  ...                  0   \n",
       "27217              0              0              0  ...                  0   \n",
       "27218              0              0              0  ...                  0   \n",
       "27219              0              0              1  ...                  0   \n",
       "\n",
       "       region_WV - Other  region_WY - Other  region_Washington, D.C.  \\\n",
       "0                      0                  0                        0   \n",
       "1                      0                  0                        0   \n",
       "2                      0                  0                        0   \n",
       "3                      0                  0                        0   \n",
       "4                      0                  0                        0   \n",
       "...                  ...                ...                      ...   \n",
       "27215                  0                  0                        1   \n",
       "27216                  0                  0                        0   \n",
       "27217                  0                  0                        0   \n",
       "27218                  0                  0                        0   \n",
       "27219                  0                  0                        0   \n",
       "\n",
       "       region_Wichita  region_Wilmington - Cape Fear, North Carolina  \\\n",
       "0                   0                                              0   \n",
       "1                   0                                              0   \n",
       "2                   0                                              0   \n",
       "3                   0                                              0   \n",
       "4                   0                                              0   \n",
       "...               ...                                            ...   \n",
       "27215               0                                              0   \n",
       "27216               0                                              0   \n",
       "27217               0                                              0   \n",
       "27218               0                                              0   \n",
       "27219               0                                              0   \n",
       "\n",
       "       region_Wilmington, Delaware  region_Winston-Salem  region_Worcester  \\\n",
       "0                                0                     0                 0   \n",
       "1                                0                     0                 0   \n",
       "2                                0                     0                 0   \n",
       "3                                0                     0                 0   \n",
       "4                                0                     0                 0   \n",
       "...                            ...                   ...               ...   \n",
       "27215                            0                     0                 0   \n",
       "27216                            0                     0                 0   \n",
       "27217                            0                     0                 0   \n",
       "27218                            0                     0                 0   \n",
       "27219                            0                     0                 0   \n",
       "\n",
       "       region_Youngstown  \n",
       "0                      0  \n",
       "1                      0  \n",
       "2                      0  \n",
       "3                      0  \n",
       "4                      0  \n",
       "...                  ...  \n",
       "27215                  0  \n",
       "27216                  0  \n",
       "27217                  0  \n",
       "27218                  0  \n",
       "27219                  0  \n",
       "\n",
       "[27220 rows x 297 columns]"
      ]
     },
     "execution_count": 129,
     "metadata": {},
     "output_type": "execute_result"
    }
   ],
   "source": [
    "# columns_to_encode = ['status', 'state_code', 'region','2014_status',\n",
    "#         'acquirer_country_code', 'acquirer_state_code',\n",
    "#        'acquirer_region', 'acquired_month',\n",
    "#        'price_currency_code']\n",
    "\n",
    "columns_to_encode = ['state_code', 'region']\n",
    "df_encoded = pd.get_dummies(df, columns=columns_to_encode)\n",
    "df_encoded"
   ]
  },
  {
   "cell_type": "code",
   "execution_count": 130,
   "id": "f52a0b9a-7b80-4dd9-9eb5-ec3a8fc2583a",
   "metadata": {
    "tags": []
   },
   "outputs": [
    {
     "data": {
      "text/plain": [
       "(27220, 297)"
      ]
     },
     "execution_count": 130,
     "metadata": {},
     "output_type": "execute_result"
    }
   ],
   "source": [
    "df_encoded.shape"
   ]
  },
  {
   "cell_type": "code",
   "execution_count": 131,
   "id": "731c31a1-0363-4dfd-ad1f-65b7e93fa9e3",
   "metadata": {
    "tags": []
   },
   "outputs": [
    {
     "data": {
      "text/plain": [
       "0    23581\n",
       "1     3639\n",
       "Name: is_success, dtype: int64"
      ]
     },
     "execution_count": 131,
     "metadata": {},
     "output_type": "execute_result"
    }
   ],
   "source": [
    "df_encoded['is_success'].value_counts()"
   ]
  },
  {
   "cell_type": "code",
   "execution_count": 132,
   "id": "dec4a59d-9123-4c5a-9d9a-6b51fad44045",
   "metadata": {
    "tags": []
   },
   "outputs": [],
   "source": [
    "X = df_encoded.drop('is_success', axis=1)\n",
    "y = df.loc[:, ['is_success']]"
   ]
  },
  {
   "cell_type": "code",
   "execution_count": 133,
   "id": "c71e1749-c095-4c6b-803a-92474de322aa",
   "metadata": {
    "tags": []
   },
   "outputs": [
    {
     "data": {
      "text/plain": [
       "Index(['funding_total_usd', 'funding_rounds', '2014_funding_total_usd',\n",
       "       '2014_funding_rounds', 'state_code_AK', 'state_code_AL',\n",
       "       'state_code_AR', 'state_code_AZ', 'state_code_CA', 'state_code_CO',\n",
       "       ...\n",
       "       'region_WI - Other', 'region_WV - Other', 'region_WY - Other',\n",
       "       'region_Washington, D.C.', 'region_Wichita',\n",
       "       'region_Wilmington - Cape Fear, North Carolina',\n",
       "       'region_Wilmington, Delaware', 'region_Winston-Salem',\n",
       "       'region_Worcester', 'region_Youngstown'],\n",
       "      dtype='object', length=296)"
      ]
     },
     "execution_count": 133,
     "metadata": {},
     "output_type": "execute_result"
    }
   ],
   "source": [
    "X.shape\n",
    "X.columns"
   ]
  },
  {
   "cell_type": "code",
   "execution_count": 134,
   "id": "f3dc6192-369d-4308-a23f-3603b571fa8d",
   "metadata": {
    "tags": []
   },
   "outputs": [
    {
     "data": {
      "text/plain": [
       "(27220, 1)"
      ]
     },
     "execution_count": 134,
     "metadata": {},
     "output_type": "execute_result"
    }
   ],
   "source": [
    "y.shape"
   ]
  },
  {
   "cell_type": "code",
   "execution_count": 135,
   "id": "37bcdf63-3e90-415d-8e15-d12a79dd4a9f",
   "metadata": {
    "tags": []
   },
   "outputs": [],
   "source": [
    "def cross_val(classifier, num_splits=10):\n",
    "    model = classifier\n",
    "    scores = cross_val_score(model, X, y, cv=num_splits)\n",
    "    \n",
    "    print(np.round(scores, 9))\n",
    "    print(scores.mean())\n"
   ]
  },
  {
   "cell_type": "code",
   "execution_count": 136,
   "id": "264812f3-a36b-4982-8a87-b30eca15af92",
   "metadata": {
    "tags": []
   },
   "outputs": [
    {
     "name": "stdout",
     "output_type": "stream",
     "text": [
      "[0.86664217 0.8662748  0.8662748  0.86590742 0.8662748  0.8662748\n",
      " 0.8662748  0.8662748  0.8662748  0.8662748 ]\n",
      "0.8662747979426892\n"
     ]
    }
   ],
   "source": [
    "cross_val(XGBClassifier(n_estimators=5))\n"
   ]
  },
  {
   "cell_type": "markdown",
   "id": "de4d83e0-7db1-4a8e-ac99-b179f7336f25",
   "metadata": {},
   "source": [
    "Given error:\n",
    "    ( Invalid columns:category_list: object, funding_total_usd: object, city: object, founded_at: object, first_funding_at: object, last_funding_at: object, 2014_last_funding_at: object, acquirer_name: object, acquirer_category_list: object, acquirer_city: object, acquired_at: object)\n",
    "\n",
    "1. Find out why export / import from csv turns datatypes of columns back into objects\n",
    "2. Make sure df passed into model is all numeric or try the enable_categorical param\n",
    "3. Try smaller df first (filter out many of the columns or use just given numerical data)"
   ]
  },
  {
   "cell_type": "code",
   "execution_count": null,
   "id": "94e67286-bee1-4c10-b75d-92ca9291b051",
   "metadata": {},
   "outputs": [],
   "source": []
  }
 ],
 "metadata": {
  "kernelspec": {
   "display_name": "Python 3 (ipykernel)",
   "language": "python",
   "name": "python3"
  },
  "language_info": {
   "codemirror_mode": {
    "name": "ipython",
    "version": 3
   },
   "file_extension": ".py",
   "mimetype": "text/x-python",
   "name": "python",
   "nbconvert_exporter": "python",
   "pygments_lexer": "ipython3",
   "version": "3.11.4"
  }
 },
 "nbformat": 4,
 "nbformat_minor": 5
}
