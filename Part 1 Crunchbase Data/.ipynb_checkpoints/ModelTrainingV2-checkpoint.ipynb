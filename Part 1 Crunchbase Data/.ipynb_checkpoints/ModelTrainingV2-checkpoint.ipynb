{
 "cells": [
  {
   "cell_type": "code",
   "execution_count": 1,
   "id": "e15dbb8a-cb06-465b-8097-32c481175db7",
   "metadata": {
    "tags": []
   },
   "outputs": [],
   "source": [
    "#!pip install xgboost"
   ]
  },
  {
   "cell_type": "code",
   "execution_count": 2,
   "id": "a3b5f610-108b-4344-b070-67544253aa6c",
   "metadata": {
    "tags": []
   },
   "outputs": [],
   "source": [
    "import pandas as pd\n",
    "import numpy as np\n",
    "import matplotlib.pyplot as plt\n",
    "import seaborn as sns\n",
    "from xgboost import XGBClassifier\n",
    "from sklearn.model_selection import cross_val_score"
   ]
  },
  {
   "cell_type": "code",
   "execution_count": 3,
   "id": "f8800dfe-c1b0-49bf-b1a2-def6a39438fa",
   "metadata": {
    "tags": []
   },
   "outputs": [
    {
     "name": "stdout",
     "output_type": "stream",
     "text": [
      "<class 'pandas.core.frame.DataFrame'>\n",
      "Int64Index: 27220 entries, 0 to 27219\n",
      "Data columns (total 29 columns):\n",
      " #   Column                  Non-Null Count  Dtype              \n",
      "---  ------                  --------------  -----              \n",
      " 0   permalink               27220 non-null  object             \n",
      " 1   name                    27219 non-null  object             \n",
      " 2   homepage_url            25447 non-null  object             \n",
      " 3   category_list           26824 non-null  object             \n",
      " 4   funding_total_usd       22952 non-null  float64            \n",
      " 5   status                  27220 non-null  object             \n",
      " 6   country_code            27220 non-null  object             \n",
      " 7   state_code              27192 non-null  object             \n",
      " 8   region                  27152 non-null  object             \n",
      " 9   city                    27152 non-null  object             \n",
      " 10  funding_rounds          27220 non-null  int64              \n",
      " 11  founded_at              27220 non-null  datetime64[ns, UTC]\n",
      " 12  first_funding_at        27220 non-null  datetime64[ns, UTC]\n",
      " 13  last_funding_at         27220 non-null  datetime64[ns, UTC]\n",
      " 14  2014_funding_total_usd  18797 non-null  float64            \n",
      " 15  2014_funding_rounds     27220 non-null  int64              \n",
      " 16  2014_status             21646 non-null  object             \n",
      " 17  2014_last_funding_at    22035 non-null  datetime64[ns, UTC]\n",
      " 18  acquirer_name           3025 non-null   object             \n",
      " 19  acquirer_category_list  2919 non-null   object             \n",
      " 20  acquirer_country_code   2924 non-null   object             \n",
      " 21  acquirer_state_code     2900 non-null   object             \n",
      " 22  acquirer_region         2911 non-null   object             \n",
      " 23  acquirer_city           2911 non-null   object             \n",
      " 24  acquired_at             3024 non-null   object             \n",
      " 25  acquired_month          3024 non-null   object             \n",
      " 26  price_amount            887 non-null    float64            \n",
      " 27  price_currency_code     3025 non-null   object             \n",
      " 28  is_success              27220 non-null  int64              \n",
      "dtypes: datetime64[ns, UTC](4), float64(3), int64(3), object(19)\n",
      "memory usage: 6.2+ MB\n",
      "None\n",
      "Index(['permalink', 'name', 'homepage_url', 'category_list',\n",
      "       'funding_total_usd', 'status', 'country_code', 'state_code', 'region',\n",
      "       'city', 'funding_rounds', 'founded_at', 'first_funding_at',\n",
      "       'last_funding_at', '2014_funding_total_usd', '2014_funding_rounds',\n",
      "       '2014_status', '2014_last_funding_at', 'acquirer_name',\n",
      "       'acquirer_category_list', 'acquirer_country_code',\n",
      "       'acquirer_state_code', 'acquirer_region', 'acquirer_city',\n",
      "       'acquired_at', 'acquired_month', 'price_amount', 'price_currency_code',\n",
      "       'is_success'],\n",
      "      dtype='object')\n",
      "(27220, 29)\n"
     ]
    }
   ],
   "source": [
    "df = pd.read_pickle('crunchbase_data/cleaned_startup_data.pkl')\n",
    "print(df.info())\n",
    "print(df.columns)\n",
    "print(df.shape)"
   ]
  },
  {
   "cell_type": "markdown",
   "id": "6b3f6746-b7b9-4f16-b75c-dcb741afdced",
   "metadata": {},
   "source": [
    "## Filter Columns for X \n",
    "### Drop any columns that will not be a part of the X values. This includes any columns used to define is_success such as the status columns and anything from the aquired df. \n",
    "\n",
    "#### Some higher cardinality columns or datetime columns are dropped temporality for simplicity"
   ]
  },
  {
   "cell_type": "code",
   "execution_count": 4,
   "id": "1d7856ad-a190-437e-8fbf-57796948e3df",
   "metadata": {
    "tags": []
   },
   "outputs": [
    {
     "data": {
      "text/plain": [
       "Index(['category_list', 'funding_total_usd', 'state_code', 'region', 'city',\n",
       "       'funding_rounds', 'founded_at', 'first_funding_at', 'last_funding_at',\n",
       "       '2014_funding_total_usd', '2014_funding_rounds', '2014_last_funding_at',\n",
       "       'is_success'],\n",
       "      dtype='object')"
      ]
     },
     "execution_count": 4,
     "metadata": {},
     "output_type": "execute_result"
    }
   ],
   "source": [
    "# Drop columns that should not be a part of X values\n",
    "# This includes columsn used to define isSuccess\n",
    "df = df.drop(['permalink', 'name' , 'homepage_url', 'country_code', 'status', '2014_status',\n",
    "              'acquirer_name','acquirer_category_list', 'acquirer_country_code',\n",
    "              'acquirer_state_code', 'acquirer_region', 'acquirer_city',\n",
    "              'acquired_at', 'acquired_month', 'price_amount', 'price_currency_code'], axis = 1)\n",
    "df.columns"
   ]
  },
  {
   "cell_type": "code",
   "execution_count": 5,
   "id": "7a7c90a9-56d7-4d8f-ae5b-6bc3ba20b2ee",
   "metadata": {
    "tags": []
   },
   "outputs": [
    {
     "name": "stdout",
     "output_type": "stream",
     "text": [
      "<class 'pandas.core.frame.DataFrame'>\n",
      "Int64Index: 27220 entries, 0 to 27219\n",
      "Data columns (total 7 columns):\n",
      " #   Column                  Non-Null Count  Dtype  \n",
      "---  ------                  --------------  -----  \n",
      " 0   funding_total_usd       22952 non-null  float64\n",
      " 1   state_code              27192 non-null  object \n",
      " 2   region                  27152 non-null  object \n",
      " 3   funding_rounds          27220 non-null  int64  \n",
      " 4   2014_funding_total_usd  18797 non-null  float64\n",
      " 5   2014_funding_rounds     27220 non-null  int64  \n",
      " 6   is_success              27220 non-null  int64  \n",
      "dtypes: float64(2), int64(3), object(2)\n",
      "memory usage: 1.7+ MB\n"
     ]
    }
   ],
   "source": [
    "\n",
    "#drop for testing  add datetime cols: ['founded_at', 'first_funding_at','last_funding_at',  '2014_last_funding_at']\n",
    "df = df.drop(['category_list',\n",
    "       'city', 'founded_at', 'first_funding_at',\n",
    "       'last_funding_at',\n",
    "        '2014_last_funding_at'], axis = 1)\n",
    "# add ID \n",
    "# df.reset_index(inplace=True)\n",
    "# df.rename(columns={'index': 'id'}, inplace=True)\n",
    "df.info()\n"
   ]
  },
  {
   "cell_type": "code",
   "execution_count": 6,
   "id": "94991816-8e7e-4630-81ed-f4aa90ccb1ca",
   "metadata": {
    "tags": []
   },
   "outputs": [
    {
     "data": {
      "text/plain": [
       "Index(['funding_total_usd', 'state_code', 'region', 'funding_rounds',\n",
       "       '2014_funding_total_usd', '2014_funding_rounds', 'is_success'],\n",
       "      dtype='object')"
      ]
     },
     "execution_count": 6,
     "metadata": {},
     "output_type": "execute_result"
    }
   ],
   "source": [
    "df.columns\n"
   ]
  },
  {
   "cell_type": "markdown",
   "id": "fcfd6ab6-2936-483a-88c2-0bdfc2fe2113",
   "metadata": {},
   "source": [
    "## One hot encode the low cardinality categorical columns "
   ]
  },
  {
   "cell_type": "code",
   "execution_count": 7,
   "id": "95e15470-0589-4296-bfd1-20b7b353b53f",
   "metadata": {},
   "outputs": [
    {
     "data": {
      "text/html": [
       "<div>\n",
       "<style scoped>\n",
       "    .dataframe tbody tr th:only-of-type {\n",
       "        vertical-align: middle;\n",
       "    }\n",
       "\n",
       "    .dataframe tbody tr th {\n",
       "        vertical-align: top;\n",
       "    }\n",
       "\n",
       "    .dataframe thead th {\n",
       "        text-align: right;\n",
       "    }\n",
       "</style>\n",
       "<table border=\"1\" class=\"dataframe\">\n",
       "  <thead>\n",
       "    <tr style=\"text-align: right;\">\n",
       "      <th></th>\n",
       "      <th>funding_total_usd</th>\n",
       "      <th>funding_rounds</th>\n",
       "      <th>2014_funding_total_usd</th>\n",
       "      <th>2014_funding_rounds</th>\n",
       "      <th>is_success</th>\n",
       "      <th>state_code_AK</th>\n",
       "      <th>state_code_AL</th>\n",
       "      <th>state_code_AR</th>\n",
       "      <th>state_code_AZ</th>\n",
       "      <th>state_code_CA</th>\n",
       "      <th>...</th>\n",
       "      <th>region_WI - Other</th>\n",
       "      <th>region_WV - Other</th>\n",
       "      <th>region_WY - Other</th>\n",
       "      <th>region_Washington, D.C.</th>\n",
       "      <th>region_Wichita</th>\n",
       "      <th>region_Wilmington - Cape Fear, North Carolina</th>\n",
       "      <th>region_Wilmington, Delaware</th>\n",
       "      <th>region_Winston-Salem</th>\n",
       "      <th>region_Worcester</th>\n",
       "      <th>region_Youngstown</th>\n",
       "    </tr>\n",
       "  </thead>\n",
       "  <tbody>\n",
       "    <tr>\n",
       "      <th>0</th>\n",
       "      <td>NaN</td>\n",
       "      <td>1</td>\n",
       "      <td>NaN</td>\n",
       "      <td>1</td>\n",
       "      <td>0</td>\n",
       "      <td>0</td>\n",
       "      <td>0</td>\n",
       "      <td>0</td>\n",
       "      <td>0</td>\n",
       "      <td>0</td>\n",
       "      <td>...</td>\n",
       "      <td>0</td>\n",
       "      <td>0</td>\n",
       "      <td>0</td>\n",
       "      <td>0</td>\n",
       "      <td>0</td>\n",
       "      <td>0</td>\n",
       "      <td>0</td>\n",
       "      <td>0</td>\n",
       "      <td>0</td>\n",
       "      <td>0</td>\n",
       "    </tr>\n",
       "    <tr>\n",
       "      <th>1</th>\n",
       "      <td>33600000.0</td>\n",
       "      <td>4</td>\n",
       "      <td>10600000.0</td>\n",
       "      <td>2</td>\n",
       "      <td>0</td>\n",
       "      <td>0</td>\n",
       "      <td>0</td>\n",
       "      <td>0</td>\n",
       "      <td>0</td>\n",
       "      <td>1</td>\n",
       "      <td>...</td>\n",
       "      <td>0</td>\n",
       "      <td>0</td>\n",
       "      <td>0</td>\n",
       "      <td>0</td>\n",
       "      <td>0</td>\n",
       "      <td>0</td>\n",
       "      <td>0</td>\n",
       "      <td>0</td>\n",
       "      <td>0</td>\n",
       "      <td>0</td>\n",
       "    </tr>\n",
       "    <tr>\n",
       "      <th>2</th>\n",
       "      <td>NaN</td>\n",
       "      <td>1</td>\n",
       "      <td>NaN</td>\n",
       "      <td>1</td>\n",
       "      <td>0</td>\n",
       "      <td>0</td>\n",
       "      <td>0</td>\n",
       "      <td>0</td>\n",
       "      <td>0</td>\n",
       "      <td>0</td>\n",
       "      <td>...</td>\n",
       "      <td>0</td>\n",
       "      <td>0</td>\n",
       "      <td>0</td>\n",
       "      <td>0</td>\n",
       "      <td>0</td>\n",
       "      <td>0</td>\n",
       "      <td>0</td>\n",
       "      <td>0</td>\n",
       "      <td>0</td>\n",
       "      <td>0</td>\n",
       "    </tr>\n",
       "    <tr>\n",
       "      <th>3</th>\n",
       "      <td>6000000.0</td>\n",
       "      <td>1</td>\n",
       "      <td>NaN</td>\n",
       "      <td>0</td>\n",
       "      <td>0</td>\n",
       "      <td>0</td>\n",
       "      <td>0</td>\n",
       "      <td>0</td>\n",
       "      <td>0</td>\n",
       "      <td>0</td>\n",
       "      <td>...</td>\n",
       "      <td>0</td>\n",
       "      <td>0</td>\n",
       "      <td>0</td>\n",
       "      <td>0</td>\n",
       "      <td>0</td>\n",
       "      <td>0</td>\n",
       "      <td>0</td>\n",
       "      <td>0</td>\n",
       "      <td>0</td>\n",
       "      <td>0</td>\n",
       "    </tr>\n",
       "    <tr>\n",
       "      <th>4</th>\n",
       "      <td>5000000.0</td>\n",
       "      <td>1</td>\n",
       "      <td>NaN</td>\n",
       "      <td>0</td>\n",
       "      <td>1</td>\n",
       "      <td>0</td>\n",
       "      <td>0</td>\n",
       "      <td>0</td>\n",
       "      <td>0</td>\n",
       "      <td>1</td>\n",
       "      <td>...</td>\n",
       "      <td>0</td>\n",
       "      <td>0</td>\n",
       "      <td>0</td>\n",
       "      <td>0</td>\n",
       "      <td>0</td>\n",
       "      <td>0</td>\n",
       "      <td>0</td>\n",
       "      <td>0</td>\n",
       "      <td>0</td>\n",
       "      <td>0</td>\n",
       "    </tr>\n",
       "    <tr>\n",
       "      <th>...</th>\n",
       "      <td>...</td>\n",
       "      <td>...</td>\n",
       "      <td>...</td>\n",
       "      <td>...</td>\n",
       "      <td>...</td>\n",
       "      <td>...</td>\n",
       "      <td>...</td>\n",
       "      <td>...</td>\n",
       "      <td>...</td>\n",
       "      <td>...</td>\n",
       "      <td>...</td>\n",
       "      <td>...</td>\n",
       "      <td>...</td>\n",
       "      <td>...</td>\n",
       "      <td>...</td>\n",
       "      <td>...</td>\n",
       "      <td>...</td>\n",
       "      <td>...</td>\n",
       "      <td>...</td>\n",
       "      <td>...</td>\n",
       "      <td>...</td>\n",
       "    </tr>\n",
       "    <tr>\n",
       "      <th>27215</th>\n",
       "      <td>25000000.0</td>\n",
       "      <td>1</td>\n",
       "      <td>25000000.0</td>\n",
       "      <td>1</td>\n",
       "      <td>0</td>\n",
       "      <td>0</td>\n",
       "      <td>0</td>\n",
       "      <td>0</td>\n",
       "      <td>0</td>\n",
       "      <td>0</td>\n",
       "      <td>...</td>\n",
       "      <td>0</td>\n",
       "      <td>0</td>\n",
       "      <td>0</td>\n",
       "      <td>1</td>\n",
       "      <td>0</td>\n",
       "      <td>0</td>\n",
       "      <td>0</td>\n",
       "      <td>0</td>\n",
       "      <td>0</td>\n",
       "      <td>0</td>\n",
       "    </tr>\n",
       "    <tr>\n",
       "      <th>27216</th>\n",
       "      <td>34275015.0</td>\n",
       "      <td>4</td>\n",
       "      <td>34275015.0</td>\n",
       "      <td>4</td>\n",
       "      <td>0</td>\n",
       "      <td>0</td>\n",
       "      <td>0</td>\n",
       "      <td>0</td>\n",
       "      <td>0</td>\n",
       "      <td>0</td>\n",
       "      <td>...</td>\n",
       "      <td>0</td>\n",
       "      <td>0</td>\n",
       "      <td>0</td>\n",
       "      <td>0</td>\n",
       "      <td>0</td>\n",
       "      <td>0</td>\n",
       "      <td>0</td>\n",
       "      <td>0</td>\n",
       "      <td>0</td>\n",
       "      <td>0</td>\n",
       "    </tr>\n",
       "    <tr>\n",
       "      <th>27217</th>\n",
       "      <td>3300000.0</td>\n",
       "      <td>2</td>\n",
       "      <td>NaN</td>\n",
       "      <td>0</td>\n",
       "      <td>0</td>\n",
       "      <td>0</td>\n",
       "      <td>0</td>\n",
       "      <td>0</td>\n",
       "      <td>0</td>\n",
       "      <td>0</td>\n",
       "      <td>...</td>\n",
       "      <td>0</td>\n",
       "      <td>0</td>\n",
       "      <td>0</td>\n",
       "      <td>0</td>\n",
       "      <td>0</td>\n",
       "      <td>0</td>\n",
       "      <td>0</td>\n",
       "      <td>0</td>\n",
       "      <td>0</td>\n",
       "      <td>0</td>\n",
       "    </tr>\n",
       "    <tr>\n",
       "      <th>27218</th>\n",
       "      <td>2150000.0</td>\n",
       "      <td>2</td>\n",
       "      <td>2150000.0</td>\n",
       "      <td>1</td>\n",
       "      <td>0</td>\n",
       "      <td>0</td>\n",
       "      <td>0</td>\n",
       "      <td>0</td>\n",
       "      <td>0</td>\n",
       "      <td>0</td>\n",
       "      <td>...</td>\n",
       "      <td>0</td>\n",
       "      <td>0</td>\n",
       "      <td>0</td>\n",
       "      <td>0</td>\n",
       "      <td>0</td>\n",
       "      <td>0</td>\n",
       "      <td>0</td>\n",
       "      <td>0</td>\n",
       "      <td>0</td>\n",
       "      <td>0</td>\n",
       "    </tr>\n",
       "    <tr>\n",
       "      <th>27219</th>\n",
       "      <td>18192.0</td>\n",
       "      <td>1</td>\n",
       "      <td>NaN</td>\n",
       "      <td>0</td>\n",
       "      <td>0</td>\n",
       "      <td>0</td>\n",
       "      <td>0</td>\n",
       "      <td>0</td>\n",
       "      <td>0</td>\n",
       "      <td>1</td>\n",
       "      <td>...</td>\n",
       "      <td>0</td>\n",
       "      <td>0</td>\n",
       "      <td>0</td>\n",
       "      <td>0</td>\n",
       "      <td>0</td>\n",
       "      <td>0</td>\n",
       "      <td>0</td>\n",
       "      <td>0</td>\n",
       "      <td>0</td>\n",
       "      <td>0</td>\n",
       "    </tr>\n",
       "  </tbody>\n",
       "</table>\n",
       "<p>27220 rows × 297 columns</p>\n",
       "</div>"
      ],
      "text/plain": [
       "       funding_total_usd  funding_rounds  2014_funding_total_usd  \\\n",
       "0                    NaN               1                     NaN   \n",
       "1             33600000.0               4              10600000.0   \n",
       "2                    NaN               1                     NaN   \n",
       "3              6000000.0               1                     NaN   \n",
       "4              5000000.0               1                     NaN   \n",
       "...                  ...             ...                     ...   \n",
       "27215         25000000.0               1              25000000.0   \n",
       "27216         34275015.0               4              34275015.0   \n",
       "27217          3300000.0               2                     NaN   \n",
       "27218          2150000.0               2               2150000.0   \n",
       "27219            18192.0               1                     NaN   \n",
       "\n",
       "       2014_funding_rounds  is_success  state_code_AK  state_code_AL  \\\n",
       "0                        1           0              0              0   \n",
       "1                        2           0              0              0   \n",
       "2                        1           0              0              0   \n",
       "3                        0           0              0              0   \n",
       "4                        0           1              0              0   \n",
       "...                    ...         ...            ...            ...   \n",
       "27215                    1           0              0              0   \n",
       "27216                    4           0              0              0   \n",
       "27217                    0           0              0              0   \n",
       "27218                    1           0              0              0   \n",
       "27219                    0           0              0              0   \n",
       "\n",
       "       state_code_AR  state_code_AZ  state_code_CA  ...  region_WI - Other  \\\n",
       "0                  0              0              0  ...                  0   \n",
       "1                  0              0              1  ...                  0   \n",
       "2                  0              0              0  ...                  0   \n",
       "3                  0              0              0  ...                  0   \n",
       "4                  0              0              1  ...                  0   \n",
       "...              ...            ...            ...  ...                ...   \n",
       "27215              0              0              0  ...                  0   \n",
       "27216              0              0              0  ...                  0   \n",
       "27217              0              0              0  ...                  0   \n",
       "27218              0              0              0  ...                  0   \n",
       "27219              0              0              1  ...                  0   \n",
       "\n",
       "       region_WV - Other  region_WY - Other  region_Washington, D.C.  \\\n",
       "0                      0                  0                        0   \n",
       "1                      0                  0                        0   \n",
       "2                      0                  0                        0   \n",
       "3                      0                  0                        0   \n",
       "4                      0                  0                        0   \n",
       "...                  ...                ...                      ...   \n",
       "27215                  0                  0                        1   \n",
       "27216                  0                  0                        0   \n",
       "27217                  0                  0                        0   \n",
       "27218                  0                  0                        0   \n",
       "27219                  0                  0                        0   \n",
       "\n",
       "       region_Wichita  region_Wilmington - Cape Fear, North Carolina  \\\n",
       "0                   0                                              0   \n",
       "1                   0                                              0   \n",
       "2                   0                                              0   \n",
       "3                   0                                              0   \n",
       "4                   0                                              0   \n",
       "...               ...                                            ...   \n",
       "27215               0                                              0   \n",
       "27216               0                                              0   \n",
       "27217               0                                              0   \n",
       "27218               0                                              0   \n",
       "27219               0                                              0   \n",
       "\n",
       "       region_Wilmington, Delaware  region_Winston-Salem  region_Worcester  \\\n",
       "0                                0                     0                 0   \n",
       "1                                0                     0                 0   \n",
       "2                                0                     0                 0   \n",
       "3                                0                     0                 0   \n",
       "4                                0                     0                 0   \n",
       "...                            ...                   ...               ...   \n",
       "27215                            0                     0                 0   \n",
       "27216                            0                     0                 0   \n",
       "27217                            0                     0                 0   \n",
       "27218                            0                     0                 0   \n",
       "27219                            0                     0                 0   \n",
       "\n",
       "       region_Youngstown  \n",
       "0                      0  \n",
       "1                      0  \n",
       "2                      0  \n",
       "3                      0  \n",
       "4                      0  \n",
       "...                  ...  \n",
       "27215                  0  \n",
       "27216                  0  \n",
       "27217                  0  \n",
       "27218                  0  \n",
       "27219                  0  \n",
       "\n",
       "[27220 rows x 297 columns]"
      ]
     },
     "execution_count": 7,
     "metadata": {},
     "output_type": "execute_result"
    }
   ],
   "source": [
    "# columns_to_encode = ['status', 'state_code', 'region','2014_status',\n",
    "#         'acquirer_country_code', 'acquirer_state_code',\n",
    "#        'acquirer_region', 'acquired_month',\n",
    "#        'price_currency_code']\n",
    "\n",
    "columns_to_encode = ['state_code', 'region']\n",
    "df_encoded = pd.get_dummies(df, columns=columns_to_encode)\n",
    "df_encoded"
   ]
  },
  {
   "cell_type": "code",
   "execution_count": 8,
   "id": "f52a0b9a-7b80-4dd9-9eb5-ec3a8fc2583a",
   "metadata": {
    "tags": []
   },
   "outputs": [
    {
     "data": {
      "text/plain": [
       "(27220, 297)"
      ]
     },
     "execution_count": 8,
     "metadata": {},
     "output_type": "execute_result"
    }
   ],
   "source": [
    "df_encoded.shape"
   ]
  },
  {
   "cell_type": "code",
   "execution_count": 9,
   "id": "731c31a1-0363-4dfd-ad1f-65b7e93fa9e3",
   "metadata": {
    "tags": []
   },
   "outputs": [
    {
     "data": {
      "text/plain": [
       "0    23581\n",
       "1     3639\n",
       "Name: is_success, dtype: int64"
      ]
     },
     "execution_count": 9,
     "metadata": {},
     "output_type": "execute_result"
    }
   ],
   "source": [
    "# Check how many sucessful start ups there are\n",
    "df_encoded['is_success'].value_counts()"
   ]
  },
  {
   "cell_type": "markdown",
   "id": "58821dfe-db63-45a5-9c08-912a93b6b27b",
   "metadata": {},
   "source": [
    "### Set the target 'is_success' column to y and all other columns to X"
   ]
  },
  {
   "cell_type": "code",
   "execution_count": 10,
   "id": "dec4a59d-9123-4c5a-9d9a-6b51fad44045",
   "metadata": {
    "tags": []
   },
   "outputs": [
    {
     "name": "stdout",
     "output_type": "stream",
     "text": [
      "Shape of X : (27220, 296)\n",
      "Shape of y : (27220, 1)\n"
     ]
    }
   ],
   "source": [
    "X = df_encoded.drop('is_success', axis=1)\n",
    "y = df.loc[:, ['is_success']]\n",
    "print(f'Shape of X : {X.shape}')\n",
    "print(f'Shape of y : {y.shape}')\n"
   ]
  },
  {
   "cell_type": "markdown",
   "id": "d2353c45-8d8d-46eb-b50d-ad5582bcfc64",
   "metadata": {},
   "source": [
    "#### Make function to have cross validation"
   ]
  },
  {
   "cell_type": "code",
   "execution_count": 11,
   "id": "37bcdf63-3e90-415d-8e15-d12a79dd4a9f",
   "metadata": {
    "tags": []
   },
   "outputs": [],
   "source": [
    "def cross_val(classifier, num_splits=10):\n",
    "    model = classifier\n",
    "    scores = cross_val_score(model, X, y, cv=num_splits)\n",
    "    \n",
    "    print(np.round(scores, 9))\n",
    "    print()\n",
    "    print(scores.mean())\n"
   ]
  },
  {
   "cell_type": "markdown",
   "id": "8d688309-ea63-48e3-998f-f33bbdadccdb",
   "metadata": {},
   "source": [
    "### Run and evaluate the performance of the XGBClassifier"
   ]
  },
  {
   "cell_type": "code",
   "execution_count": 13,
   "id": "264812f3-a36b-4982-8a87-b30eca15af92",
   "metadata": {
    "tags": []
   },
   "outputs": [
    {
     "name": "stdout",
     "output_type": "stream",
     "text": [
      "[0.86664217 0.8662748  0.8662748  0.86590742 0.8662748  0.8662748\n",
      " 0.8662748  0.8662748  0.8662748  0.8662748 ]\n",
      "\n",
      "0.8662747979426892\n"
     ]
    }
   ],
   "source": [
    "cross_val(XGBClassifier(n_estimators=5))\n"
   ]
  },
  {
   "cell_type": "code",
   "execution_count": null,
   "id": "f62e67b9-5594-4099-87ba-ed8acd75e457",
   "metadata": {},
   "outputs": [],
   "source": []
  },
  {
   "cell_type": "markdown",
   "id": "d5f63dff-d181-44e8-8371-05b75d9ae32c",
   "metadata": {},
   "source": [
    "## Next Steps:\n",
    "Two Options\n",
    "\n",
    "### 1. Fine tune model by adding more cateogrical info\n",
    "* There is not too much more data I can use ( only can use category/industry of startup, location, when it was founded)\n",
    "* I could add investment data (would add one more numeric value: amount_raised from investment, and 3 - 4 categorical values )\n",
    "\n",
    "\n",
    "\n",
    "\n",
    "### 2. Use PrivCo Data\n",
    "\n",
    "Pros:\n",
    "* A lot more columns of numerical data (esp finanical data)   \n",
    "* More recent data   \n",
    "\n",
    "Cons:\n",
    "* Less rows of data (~6000)   \n",
    "* Difficult to create an is_sucessful columns to use as target for a classification model   \n",
    "* Time, would need to redo same cleaningn EDA Process for data\n",
    "\n",
    "\n",
    "If switched to PrivCo it may be better to do a linear regression to predict the lastest valuation of the startup, or another metric "
   ]
  },
  {
   "cell_type": "code",
   "execution_count": null,
   "id": "9613c23f-9cf4-45dd-88b7-02f65104e1a0",
   "metadata": {},
   "outputs": [],
   "source": []
  }
 ],
 "metadata": {
  "kernelspec": {
   "display_name": "Python 3 (ipykernel)",
   "language": "python",
   "name": "python3"
  },
  "language_info": {
   "codemirror_mode": {
    "name": "ipython",
    "version": 3
   },
   "file_extension": ".py",
   "mimetype": "text/x-python",
   "name": "python",
   "nbconvert_exporter": "python",
   "pygments_lexer": "ipython3",
   "version": "3.11.4"
  }
 },
 "nbformat": 4,
 "nbformat_minor": 5
}
